{
 "cells": [
  {
   "cell_type": "markdown",
   "id": "b0e0e57d-3cc3-4825-a464-ce30ecea1391",
   "metadata": {},
   "source": [
    "<img src='../OUTILS/bandeau_MF.png' align='right' width='100%'/>"
   ]
  },
  {
   "cell_type": "markdown",
   "id": "fa783a86-6580-4bbf-9a59-dac640cddfb2",
   "metadata": {},
   "source": [
    "<div class=\"alert alert-info alert-success\">\n",
    "<h3>Elaboration de la RGB Cloud Phase - FCI /MTG </h3></div>\n",
    "\n",
    "## <a id='TOC-TOP'></a>Contenus"
   ]
  },
  {
   "cell_type": "markdown",
   "id": "24efb863-9dc4-4ca6-946c-9bd251b98213",
   "metadata": {},
   "source": [
    "<div class=\"alert alert-block alert-warning\">\n",
    "    \n",
    "<b>PREREQUIS </b>\n",
    "    \n",
    "Ce Notebook ne nécessite pas de prérequis\n",
    "\n",
    "</div>\n",
    "<hr>"
   ]
  },
  {
   "cell_type": "markdown",
   "id": "ade13553-cfdd-4fba-8ae2-eb352efeaa7e",
   "metadata": {},
   "source": [
    "<div class=\"alert alert-info\" role=\"alert\">\n",
    "\n",
    "## <a id='section1'></a>1.Tout d'abord, il faut procéder à l'importation des librairies nécessaires.\n",
    "\n",
    "</div>"
   ]
  },
  {
   "cell_type": "code",
   "execution_count": null,
   "id": "6b07e118-3248-4a34-8a6f-f505574b3191",
   "metadata": {
    "tags": []
   },
   "outputs": [],
   "source": [
    "from PIL import Image\n",
    "from IPython.display import display\n",
    "import matplotlib as mpl\n",
    "import matplotlib.pyplot as plt\n",
    "import numpy as np\n",
    "import scipy\n",
    "import os"
   ]
  },
  {
   "cell_type": "markdown",
   "id": "70b4b5bf-63af-4b37-9697-14fdb38f1fc0",
   "metadata": {},
   "source": [
    "### Données d'entrée : fichier multicanaux mtg"
   ]
  },
  {
   "cell_type": "code",
   "execution_count": null,
   "id": "78032105-b9b6-4b4e-b0d9-38dd98458957",
   "metadata": {},
   "outputs": [],
   "source": [
    "input = '../DATA/Multic2km_mtgi1_20231122_1400.nc'"
   ]
  },
  {
   "cell_type": "code",
   "execution_count": null,
   "id": "37ae9cc5-4ee6-4548-92dc-16a28cab70bd",
   "metadata": {
    "tags": []
   },
   "outputs": [],
   "source": [
    "input"
   ]
  },
  {
   "cell_type": "markdown",
   "id": "bec10450-aab5-4169-abd5-27daa75ea052",
   "metadata": {},
   "source": [
    "### Définition du dossier de sortie :"
   ]
  },
  {
   "cell_type": "code",
   "execution_count": null,
   "id": "39363352-51cc-4718-ad4b-d304c32e7b74",
   "metadata": {},
   "outputs": [],
   "source": [
    "pwd"
   ]
  },
  {
   "cell_type": "code",
   "execution_count": null,
   "id": "9e089c54-2e4c-4a73-9ab7-66ef528b99d0",
   "metadata": {},
   "outputs": [],
   "source": [
    "download_dir = os.path.join(os.getcwd(), \"../output\")\n",
    "os.makedirs(download_dir, exist_ok=True)"
   ]
  },
  {
   "cell_type": "code",
   "execution_count": null,
   "id": "fd62ccb7-b9cf-4ade-888c-52e8f7b9b9f9",
   "metadata": {},
   "outputs": [],
   "source": [
    "output = '../output'"
   ]
  },
  {
   "cell_type": "code",
   "execution_count": null,
   "id": "842ae412-d04d-4087-978c-d8bcff924464",
   "metadata": {},
   "outputs": [],
   "source": [
    "output"
   ]
  },
  {
   "cell_type": "code",
   "execution_count": null,
   "id": "24ff6c59-c144-4e58-a12d-c5ea48ed9041",
   "metadata": {
    "tags": []
   },
   "outputs": [],
   "source": [
    "!gdalinfo $input"
   ]
  },
  {
   "cell_type": "markdown",
   "id": "8d2c1624-6b70-49b0-8473-9510eb888f16",
   "metadata": {
    "tags": []
   },
   "source": [
    "<div class=\"alert alert-info\" role=\"alert\">\n",
    "\n",
    "## <a id='section2'></a>2.Extraction des données dans le NetCDF\n",
    "[Back to top](#TOC-TOP)\n",
    "\n",
    "</div>\n",
    "\n",
    "\n",
    "Pour rappel, la recette de la RGB cloud phase est la suivante :\n",
    "\n",
    "<img src='../OUTILS/cloudphase_tableau.png' align='right' width='100%'/>\n",
    "\n",
    "Red: NIR1.61, range 0 to 50 %, Gamma = 1\n",
    "\n",
    "Green: NIR2.25, Range 0 to 50 %, Gamma = 1\n",
    "\n",
    "Blue: VIS0.64, range 0 to 100 %, Gamma = 1"
   ]
  },
  {
   "cell_type": "markdown",
   "id": "702a2f67-73c4-4e90-866a-7bc855eaf928",
   "metadata": {},
   "source": [
    "Extraction des données des trois longueurs d'ondes nécessaires aux calculs des différences :"
   ]
  },
  {
   "cell_type": "code",
   "execution_count": null,
   "id": "0fe7f8a9-f091-4c92-898b-b1cd5e71c41c",
   "metadata": {},
   "outputs": [],
   "source": [
    "!pwd"
   ]
  },
  {
   "cell_type": "code",
   "execution_count": null,
   "id": "48a83cc4-8b7b-414a-9704-6de069d325ae",
   "metadata": {},
   "outputs": [],
   "source": [
    "!gdal_translate NETCDF:\"$input\":IR_016 {output}/016.tif"
   ]
  },
  {
   "cell_type": "code",
   "execution_count": null,
   "id": "db684e22-6bd8-4726-b7cf-5c1184bbae5a",
   "metadata": {},
   "outputs": [],
   "source": [
    "!gdal_translate NETCDF:\"$input\":IR_016 {output}/016.tif\n",
    "!gdal_translate NETCDF:\"$input\":IR_022 {output}/022.tif\n",
    "!gdal_translate NETCDF:\"$input\":VIS006 {output}/006.tif"
   ]
  },
  {
   "cell_type": "markdown",
   "id": "e7a3da5d-10ec-4127-a752-f29d66354a1c",
   "metadata": {},
   "source": [
    "Extraction des données IR_016 pour la bande rouge.\n",
    "Les valeurs 0 et 50 % \n"
   ]
  },
  {
   "cell_type": "code",
   "execution_count": null,
   "id": "83c5a506-fee1-4c79-8880-c1211898969f",
   "metadata": {},
   "outputs": [],
   "source": [
    "!gdal_translate -ot byte -scale 0 5000 0 255 NETCDF:\"$input\":IR_016 {output}/016_scale.tif"
   ]
  },
  {
   "cell_type": "markdown",
   "id": "32bbe76b-27ee-4fc2-95c5-3f2ff7d4e0c1",
   "metadata": {},
   "source": [
    "Extraction des données IR_022 pour la bande verte.\n",
    "Les valeurs 0 et 50 % \n",
    "Extraction des données IR VIS006 pour la bande bleue.\n",
    "Les valeurs 0 et 100 % \n",
    "\n"
   ]
  },
  {
   "cell_type": "code",
   "execution_count": null,
   "id": "ab07df4a-1d8c-4e84-82b0-f487fafab609",
   "metadata": {},
   "outputs": [],
   "source": [
    "!gdal_translate -ot byte -scale 0 5000 0 255 NETCDF:\"$input\":IR_022 {output}/022_scale.tif\n",
    "!gdal_translate -ot byte -scale 0 10000 0 255 NETCDF:\"$input\":VIS006 {output}/006_scale.tif"
   ]
  },
  {
   "attachments": {
    "d96c291a-bf4a-41e3-8436-7db6281466a2.png": {
     "image/png": "[encoded data removed]"
    }
   },
   "cell_type": "markdown",
   "id": "a0110faa-2f67-4b28-b2d2-01df04a5253f",
   "metadata": {},
   "source": [
    "### Calcul de la correction gamma avec gdal_calc.py :\n",
    "\n",
    "Pour rappel la formule de la correction gamme est :\n",
    "\n",
    "![image.png](attachment:d96c291a-bf4a-41e3-8436-7db6281466a2.png)\n",
    "\n",
    "\n",
    "(Note : imagemagick permet de faire une correction gamma mais n'est pas compatible avec Windows)"
   ]
  },
  {
   "cell_type": "markdown",
   "id": "311de0d1-bf95-4921-a354-8bbdd818f357",
   "metadata": {},
   "source": [
    "La première étape consiste à extraire les valeurs min et max de l'image."
   ]
  },
  {
   "cell_type": "code",
   "execution_count": null,
   "id": "a68037b4-6332-4d57-bf66-a3d554c482cc",
   "metadata": {},
   "outputs": [],
   "source": [
    "#cd ../output"
   ]
  },
  {
   "cell_type": "code",
   "execution_count": null,
   "id": "c8247258-2339-4a1c-a371-705ef8d246b5",
   "metadata": {},
   "outputs": [],
   "source": [
    "file_in = '../output/016_scale.tif'\n",
    "imgpil = Image.open(file_in)  \n",
    "img = np.array(imgpil)\n",
    "max = np.max(img)\n",
    "min = np.min(img)"
   ]
  },
  {
   "cell_type": "markdown",
   "id": "3b14b376-35bf-441c-9867-8e7f485bfc81",
   "metadata": {},
   "source": [
    "Ensuite on calcule et on applique la correction gamma pour une valeur de 1 :"
   ]
  },
  {
   "cell_type": "code",
   "execution_count": null,
   "id": "61f5b63f-8bd4-494b-9b5d-9366f9080ed5",
   "metadata": {},
   "outputs": [],
   "source": [
    "#gamma= 1\n",
    "#meilleur résultat avec \n",
    "gamma= 1.7"
   ]
  },
  {
   "cell_type": "code",
   "execution_count": null,
   "id": "32035db6-83da-446e-88dd-a74be005ad7f",
   "metadata": {},
   "outputs": [],
   "source": [
    "!gdal_calc.py --quiet --NoDataValue 0 --overwrite -A {file_in} --calc=\"numpy.maximum(A*0.,{max}*((A-{min}.)/({max}-{min}))**(1/{gamma}))\" --outfile {output}/016_scale_gamma.tif"
   ]
  },
  {
   "cell_type": "code",
   "execution_count": null,
   "id": "e4500d58-a624-4673-804d-35f4b4a6d726",
   "metadata": {},
   "outputs": [],
   "source": [
    "file_in = '../output/022_scale.tif'\n",
    "imgpil = Image.open(file_in)  \n",
    "img = np.array(imgpil)\n",
    "max = np.max(img)\n",
    "min = np.min(img)"
   ]
  },
  {
   "cell_type": "code",
   "execution_count": null,
   "id": "7d41bd0d-7d1c-40cc-8bfa-32b33d2e0663",
   "metadata": {},
   "outputs": [],
   "source": [
    "gamma= 1"
   ]
  },
  {
   "cell_type": "code",
   "execution_count": null,
   "id": "85d9823e-be08-4929-ac39-e12c85d318c1",
   "metadata": {},
   "outputs": [],
   "source": [
    "#gamma= 1\n",
    "#meilleur résultat avec \n",
    "gamma= 1.6"
   ]
  },
  {
   "cell_type": "code",
   "execution_count": null,
   "id": "4a0a3c2c-eb72-4051-9942-7d139403581b",
   "metadata": {},
   "outputs": [],
   "source": [
    "!gdal_calc.py --quiet --NoDataValue 0 --overwrite -A {file_in} --calc=\"numpy.maximum(A*0.,{max}*((A-{min}.)/({max}-{min}))**(1/{gamma}))\" --outfile {output}/022_scale_gamma.tif"
   ]
  },
  {
   "cell_type": "code",
   "execution_count": null,
   "id": "06136a70-55b5-449b-8497-76ea2bf6eaea",
   "metadata": {},
   "outputs": [],
   "source": [
    "file_in = '../output/006_scale.tif'\n",
    "imgpil = Image.open(file_in)  \n",
    "img = np.array(imgpil)\n",
    "max = np.max(img)\n",
    "min = np.min(img)"
   ]
  },
  {
   "cell_type": "code",
   "execution_count": null,
   "id": "43a9cdce-54c1-49a1-b895-ddab3e722014",
   "metadata": {},
   "outputs": [],
   "source": [
    "gamma= 1"
   ]
  },
  {
   "cell_type": "code",
   "execution_count": null,
   "id": "6d28efa6-ab25-4917-b5e3-7fec51d22321",
   "metadata": {},
   "outputs": [],
   "source": [
    "!gdal_calc.py --quiet --NoDataValue 0 --overwrite -A {file_in} --calc=\"numpy.maximum(A*0.,{max}*((A-{min}.)/({max}-{min}))**(1/{gamma}))\" --outfile {output}/006_scale_gamma.tif"
   ]
  },
  {
   "cell_type": "markdown",
   "id": "cdbec3e0-d122-42c0-8e08-5d8f0569d73d",
   "metadata": {},
   "source": [
    "<div class=\"alert alert-info\" role=\"alert\">\n",
    "\n",
    "## <a id='section3'></a>3.Fabrication de la RGB\n",
    "[Back to top](#TOC-TOP)\n",
    "\n",
    "</div>\n"
   ]
  },
  {
   "cell_type": "code",
   "execution_count": null,
   "id": "a1e8b5cc-b8c4-450d-8105-6ca3145b199e",
   "metadata": {},
   "outputs": [],
   "source": [
    "!gdal_merge.py -separate {output}/016_scale_gamma.tif {output}/022_scale_gamma.tif {output}/006_scale_gamma.tif -o {output}/RGB_cloudphase.tif"
   ]
  },
  {
   "cell_type": "markdown",
   "id": "b6e6dc38-4d24-470e-bb1a-5f29ffdb7dd7",
   "metadata": {},
   "source": [
    "### Création et affichage d'une image redimmensionnée"
   ]
  },
  {
   "cell_type": "code",
   "execution_count": null,
   "id": "6747e6c9-8f17-4dc8-80ca-167421b96851",
   "metadata": {},
   "outputs": [],
   "source": [
    "!convert -resize 500x500 {output}/RGB_cloudphase.tif {output}/RGB_cloudphase_min.jpg"
   ]
  },
  {
   "cell_type": "markdown",
   "id": "672b8612-37b8-4ec2-b116-10fc2abe41c5",
   "metadata": {},
   "source": [
    "### Visualisation du résultat"
   ]
  },
  {
   "cell_type": "code",
   "execution_count": null,
   "id": "99422cc0-a76b-4975-8797-56c9453c0483",
   "metadata": {},
   "outputs": [],
   "source": [
    "im = Image.open(output + '/RGB_cloudphase_min.jpg', 'r')\n",
    "display(im)"
   ]
  },
  {
   "cell_type": "markdown",
   "id": "ef9f8d05-b277-4dcd-9a44-e31655153e31",
   "metadata": {},
   "source": [
    "### Définition de la zone du zoom"
   ]
  },
  {
   "cell_type": "code",
   "execution_count": null,
   "id": "c4d3772c-764e-4e4f-a78c-0a21ee6c02c1",
   "metadata": {},
   "outputs": [],
   "source": [
    "N=40\n",
    "S=15\n",
    "O=-23\n",
    "E=8"
   ]
  },
  {
   "cell_type": "code",
   "execution_count": null,
   "id": "16e133d2-23f1-42bc-9939-a92a665e694e",
   "metadata": {},
   "outputs": [],
   "source": [
    "!gdalwarp -t_srs \"EPSG:4326\" -te -23 15 8 40 -overwrite {output}/RGB_cloudphase.tif {output}/RGB_cloudphase_zoom.tif"
   ]
  },
  {
   "cell_type": "markdown",
   "id": "735a7564-c6eb-40a8-8272-85a813c2e56d",
   "metadata": {},
   "source": [
    "### Création et affichage d'une image zoomée redimmensionnée"
   ]
  },
  {
   "cell_type": "code",
   "execution_count": null,
   "id": "fa318bd1-57a2-4608-859c-cab34e2b6cbb",
   "metadata": {},
   "outputs": [],
   "source": [
    "!convert -resize 500x500 {output}/RGB_cloudphase_zoom.tif {output}/RGB_cloudphase_zoom_min.jpg"
   ]
  },
  {
   "cell_type": "code",
   "execution_count": null,
   "id": "d917f87b-fd0f-4cf6-9174-9860e80883b2",
   "metadata": {},
   "outputs": [],
   "source": [
    "im2 = Image.open(output + '/RGB_cloudphase_zoom_min.jpg', 'r')\n",
    "display(im2)"
   ]
  },
  {
   "cell_type": "code",
   "execution_count": null,
   "id": "35d76851-c5ad-4855-a654-b0c0cbf476cb",
   "metadata": {},
   "outputs": [],
   "source": []
  },
  {
   "cell_type": "code",
   "execution_count": null,
   "id": "31e53a0c-0025-4e66-bddb-6c4588f28464",
   "metadata": {},
   "outputs": [],
   "source": []
  }
 ],
 "metadata": {
  "kernelspec": {
   "display_name": "Python [conda env:.conda-env_MF]",
   "language": "python",
   "name": "conda-env-.conda-env_MF-py"
  },
  "language_info": {
   "codemirror_mode": {
    "name": "ipython",
    "version": 3
   },
   "file_extension": ".py",
   "mimetype": "text/x-python",
   "name": "python",
   "nbconvert_exporter": "python",
   "pygments_lexer": "ipython3",
   "version": "3.12.4"
  }
 },
 "nbformat": 4,
 "nbformat_minor": 5
}
