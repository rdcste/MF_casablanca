{
 "cells": [
  {
   "cell_type": "code",
   "execution_count": null,
   "id": "e5655c12-6949-4440-bc4a-22d078228f5c",
   "metadata": {},
   "outputs": [],
   "source": [
    "from PIL import Image\n",
    "from IPython.display import display"
   ]
  },
  {
   "cell_type": "code",
   "execution_count": null,
   "id": "4874004a-4a19-470d-a471-b1cebe1063f3",
   "metadata": {},
   "outputs": [],
   "source": [
    "tmp_dir=\"../tmp\"\n",
    "resu_dir=\"../Resultat\""
   ]
  },
  {
   "cell_type": "code",
   "execution_count": null,
   "id": "caa29e14-adcb-4dd3-b6f3-99a81d0c30e3",
   "metadata": {},
   "outputs": [],
   "source": [
    "date=20221130\n",
    "heure=1500"
   ]
  },
  {
   "cell_type": "code",
   "execution_count": null,
   "id": "754e9fec-5c0c-4b78-a6a2-892a238fa5a5",
   "metadata": {},
   "outputs": [],
   "source": [
    "# IR traitement\n",
    "# Conversion en 8b\n",
    "#gdal_translate -ot byte -scale 0 330 0 255 /net/stockagecms/ftp/pub/archipel/dataspace/msg/${date}/*globeMir108GT*${date}_${heure}* ${tmp_dir}/tmp_fic_ir.tif\n",
    "!gdal_translate -ot byte -scale 0 330 0 255 ../data/*globeMir108GT*{date}_{heure}* {tmp_dir}/tmp_fic_ir.tif"
   ]
  },
  {
   "cell_type": "code",
   "execution_count": null,
   "id": "f0581a8d-31c5-41d0-8c08-f28d335f037f",
   "metadata": {},
   "outputs": [],
   "source": [
    "ll ../data"
   ]
  },
  {
   "cell_type": "code",
   "execution_count": null,
   "id": "66f91042-5394-4678-ae43-2d0e013d2fcb",
   "metadata": {},
   "outputs": [],
   "source": [
    "# Renforcement contraste image IR\n",
    "min=20\n",
    "max=240\n",
    "gamma=1.4"
   ]
  },
  {
   "cell_type": "code",
   "execution_count": null,
   "id": "ee301ade-423f-4bbc-bbe1-aa528d7dc49b",
   "metadata": {},
   "outputs": [],
   "source": [
    "!gdal_calc.py --quiet --overwrite -A {tmp_dir}/tmp_fic_ir.tif \\\n",
    "--calc=\"254*(1/254.*numpy.minimum(254,numpy.maximum(0,254*(numpy.float32(A)-{min})/(numpy.float32({max}-{min})))))**(1/numpy.float32({gamma}))\" \\\n",
    "--outfile={tmp_dir}/tmp_fic_ir_gamma.tif"
   ]
  },
  {
   "cell_type": "code",
   "execution_count": null,
   "id": "14c1cb1f-e3db-4f1f-b8a5-e6fa1288c356",
   "metadata": {},
   "outputs": [],
   "source": [
    "# Creation bande alpha par traitement de l'image IR\n",
    "s1 = 120\n",
    "p1 = 20\n",
    "s2 = 120\n",
    "p2 = 20"
   ]
  },
  {
   "cell_type": "code",
   "execution_count": null,
   "id": "dd6568ac-ddd3-411f-9679-895c6c283d08",
   "metadata": {
    "jupyter": {
     "source_hidden": true
    },
    "tags": []
   },
   "outputs": [],
   "source": [
    "import numpy\n",
    "import matplotlib.pyplot as plt\n",
    "\n",
    "x = numpy.linspace(0, 255, 100)\n",
    "y = numpy.floor((1.+numpy.tanh((x-s1)/(p1)))*254./2.)\n",
    "y2 = numpy.floor((1.+numpy.tanh((x-s2)/(p2)))*254./2.)\n",
    "y3 = numpy.maximum(y,y2)\n",
    "\n",
    "plt.plot(x, y)\n",
    "plt.plot(x, y2)\n",
    "plt.plot(x, y3)\n",
    "\n",
    "plt.show()"
   ]
  },
  {
   "cell_type": "code",
   "execution_count": null,
   "id": "182c9c13-a257-4fed-b339-42fa29f94adb",
   "metadata": {},
   "outputs": [],
   "source": [
    "!gdal_calc.py --quiet --overwrite -A {tmp_dir}/tmp_fic_ir.tif \\\n",
    "--calc=\"numpy.maximum(numpy.floor((1.+numpy.tanh((numpy.float32(A)-numpy.float32({s1}))/(numpy.float32({p1}))))*254./2.),numpy.floor((1.+numpy.tanh((numpy.float32(A)-numpy.float32({s2}))/(numpy.float32({p2}))))*254./2.))\" \\\n",
    "--outfile={tmp_dir}/tmp_alpha_tanh_{s1}_{p1}_et_{s2}_{p2}.tif"
   ]
  },
  {
   "cell_type": "code",
   "execution_count": null,
   "id": "46e0b252-0913-416d-900a-e09d5880a8fb",
   "metadata": {},
   "outputs": [],
   "source": [
    "# Creation de l'image IR avec transparence, a partir de l'image IR corrigee en contraste et de la bande alpha calculee\n",
    "!gdal_merge.py -separate {tmp_dir}/tmp_fic_ir_gamma.tif {tmp_dir}/tmp_fic_ir_gamma.tif {tmp_dir}/tmp_fic_ir_gamma.tif \\\n",
    "{tmp_dir}/tmp_alpha_tanh_{s1}_{p1}_et_{s2}_{p2}.tif -o {tmp_dir}/{date}_{heure}_IR_avecalpha_tanh_{s1}_{p1}_et_{s2}_{p2}.tif"
   ]
  },
  {
   "cell_type": "code",
   "execution_count": null,
   "id": "23ea8501-51b0-4be6-b9a7-f12ee6f378d3",
   "metadata": {},
   "outputs": [],
   "source": [
    "pwd"
   ]
  },
  {
   "cell_type": "code",
   "execution_count": null,
   "id": "8f59d300-76ae-4988-8563-4eb9f9549dcc",
   "metadata": {},
   "outputs": [],
   "source": [
    "# Creation de l'image composee de l'IR et du globe blue marble\n",
    "#convert -resize 50% -composite /data/maussa/tmp/blue_marble_msg4.tif ${tmp_dir}/${date}_${heure}_IR_avecalpha_tanh_${s1}_${p1}_et_${s2}_${p2}.tif /\n",
    "#${resu_dir}/${date}_${heure}_IR_surbluemarble_tanh_${s1}_${p1}_et_${s2}_${p2}.jpg\n",
    "\n",
    "img = Image.open(tmp_dir + f'/{date}_{heure}_IR_avecalpha_tanh_{s1}_{p1}_et_{s2}_{p2}.tif', 'r')\n",
    "fond = Image.open('../meta/fond/blue_marble_msg4.tif', 'r')\n",
    "fond.paste(img, (0,0), img)\n",
    "fond.save(resu_dir + f'/{date}_{heure}_IR_surbluemarble_tanh_{s1}_{p1}_et_{s2}_{p2}.jpg')\n",
    "\n",
    "im = Image.open(resu_dir + f'/{date}_{heure}_IR_surbluemarble_tanh_{s1}_{p1}_et_{s2}_{p2}.jpg', 'r')\n",
    "display(im)\n",
    "\n",
    "\n",
    "\n"
   ]
  },
  {
   "cell_type": "code",
   "execution_count": null,
   "id": "16741dd7-bd17-4d98-9570-dedb243411ad",
   "metadata": {},
   "outputs": [],
   "source": [
    "# Conservation des parametres utilises pour faire la bande alpha de l'IR (utilises dans les noms de fichiers)\n",
    "s1_ir = s1\n",
    "p1_ir = p1\n",
    "s2_ir = s2\n",
    "p2_ir = p2"
   ]
  },
  {
   "cell_type": "code",
   "execution_count": null,
   "id": "ae275f9e-c158-47c7-af11-7be83f8d815e",
   "metadata": {},
   "outputs": [],
   "source": [
    "# VIS traitement\n",
    "\n",
    "# Renforcement contraste image VIS\n",
    "min = 20\n",
    "max = 245\n",
    "gamma = 1.2"
   ]
  },
  {
   "cell_type": "code",
   "execution_count": null,
   "id": "da0a5cef-f1e0-431c-a573-e6e436502a45",
   "metadata": {},
   "outputs": [],
   "source": [
    "!gdal_calc.py --quiet --overwrite -A ./DATA/tif/globeMvis006T*{date}_{heure}* \\\n",
    "--calc=\"254*(1/254.*numpy.minimum(254,numpy.maximum(0,254*(numpy.float32(A)-{min})/(numpy.float32({max}-{min})))))**(1/numpy.float32({gamma}))\" \\\n",
    "--outfile={tmp_dir}/tmp_fic_vis_gamma.tif"
   ]
  },
  {
   "cell_type": "code",
   "execution_count": null,
   "id": "b5a66bcf-fa9b-4cc5-bb6a-10128394fdc1",
   "metadata": {},
   "outputs": [],
   "source": [
    "# Creation bande alpha par traitement de l'image VIS\n",
    "s1 = 55\n",
    "p1 = 110\n",
    "s2 = 215\n",
    "p2 = 120"
   ]
  },
  {
   "cell_type": "code",
   "execution_count": null,
   "id": "ad9174c0-e42f-4dc6-b129-4651a04224b5",
   "metadata": {},
   "outputs": [],
   "source": [
    "import numpy\n",
    "import matplotlib.pyplot as plt\n",
    "\n",
    "x = numpy.linspace(0, 255, 100)\n",
    "y1 = numpy.floor((1.+numpy.tanh((x-s1)/(p1)))*254./2.)\n",
    "y2 = numpy.floor((1.+numpy.tanh((254-x-s2)/(p2)))*254./2.)\n",
    "y3 = numpy.maximum(y1,y2)\n",
    "\n",
    "fig, ax = plt.subplots()\n",
    "ax.plot(x, y1, label=\"seuillage 1\")\n",
    "ax.plot(x, y2, label=\"seuillage 2\")\n",
    "ax.plot(x, y3, label=\"seuillage du max\")\n",
    "ax.legend()\n",
    "\n",
    "plt.show()"
   ]
  },
  {
   "cell_type": "code",
   "execution_count": null,
   "id": "ed13b2b8-b76e-4373-9e1a-316f92ff1533",
   "metadata": {},
   "outputs": [],
   "source": [
    "!gdal_calc.py --quiet --NoDataValue 0 --overwrite -A ./DATA/tif/globeMvis006T*{date}_{heure}* \\\n",
    "--calc=\"numpy.maximum(numpy.floor((1.+numpy.tanh((numpy.float32(254-A)-numpy.float32({s2}))/(numpy.float32({p2}))))*254./2.),numpy.floor((1.+numpy.tanh((numpy.float32(A)-numpy.float32({s1}))/(numpy.float32({p1}))))*254./2.))\" \\\n",
    "--outfile={tmp_dir}/tmp_alpha_tanh_{s1}_{p1}_et_{s2}_{p2}.tif"
   ]
  },
  {
   "cell_type": "code",
   "execution_count": null,
   "id": "f5d28e81-1f12-40fa-88d6-25553184bded",
   "metadata": {},
   "outputs": [],
   "source": [
    "# Creation de l'image VIS avec transparence, a partir de l'image VIS corrigee en contraste et de la bande alpha calculee\n",
    "!gdal_merge.py -separate {tmp_dir}/tmp_fic_vis_gamma.tif {tmp_dir}/tmp_fic_vis_gamma.tif {tmp_dir}/tmp_fic_vis_gamma.tif \\\n",
    "{tmp_dir}/tmp_alpha_tanh_{s1}_{p1}_et_{s2}_{p2}.tif -o {tmp_dir}/{date}_{heure}_VIS_avecalpha_tanh_{s1}_{p1}_et_{s2}_{p2}.tif"
   ]
  },
  {
   "cell_type": "code",
   "execution_count": null,
   "id": "03e0f3ae-9249-4efe-8600-d73e3e9a4ca7",
   "metadata": {},
   "outputs": [],
   "source": [
    "# Creation de l'image composee de la VIS et du globe blue marble\n",
    "#convert -composite /data/maussa/tmp/blue_marble_msg4.tif ${tmp_dir}/${date}_${heure}_VIS_avecalpha_tanh_${s1}_${p1}_et_${s2}_${p2}.tif /\n",
    "#${resu_dir}/${date}_${heure}_VIS_surbluemarble_tanh_${s1}_${p1}_et_${s2}_${p2}.jpg\n",
    "\n",
    "img = Image.open(tmp_dir + f'/{date}_{heure}_VIS_avecalpha_tanh_{s1}_{p1}_et_{s2}_{p2}.tif', 'r')\n",
    "fond = Image.open('./data/meta/blue_marble_msg4.tif', 'r')\n",
    "fond.paste(img, (0,0), img)\n",
    "fond.save(resu_dir + f'/{date}_{heure}_VIS_surbluemarble_tanh_{s1}_{p1}_et_{s2}_{p2}.jpg')\n",
    "\n",
    "im = Image.open(resu_dir + f'/{date}_{heure}_VIS_surbluemarble_tanh_{s1}_{p1}_et_{s2}_{p2}.jpg', 'r')\n",
    "display(im)\n"
   ]
  },
  {
   "cell_type": "code",
   "execution_count": null,
   "id": "340d4e1f-b73a-4f7f-bbfa-74d27c9c202f",
   "metadata": {},
   "outputs": [],
   "source": [
    "img = Image.open(tmp_dir + f'/{date}_{heure}_VIS_avecalpha_tanh_{s1}_{p1}_et_{s2}_{p2}.tif', 'r')\n",
    "fond = Image.open(resu_dir + f'/{date}_{heure}_IR_surbluemarble_tanh_{s1}_{p1}_et_{s2}_{p2}.jpg')\n",
    "fond.paste(img, (0,0), img)\n",
    "fond.save(resu_dir + f'/{date}_{heure}_IR_VIS_surbluemarble_tanh_{s1}_{p1}_et_{s2}_{p2}.jpg')\n",
    "im = Image.open(resu_dir + f'/{date}_{heure}_IR_VIS_surbluemarble_tanh_{s1}_{p1}_et_{s2}_{p2}.jpg', 'r')\n",
    "display(im)"
   ]
  },
  {
   "cell_type": "code",
   "execution_count": null,
   "id": "6ea72317-f470-48b7-a282-edab7ee446a3",
   "metadata": {},
   "outputs": [],
   "source": [
    "# Compilation IR et VIS\n",
    "#convert -composite ${tmp_dir}/${date}_${heure}_IR_avecalpha_tanh_${s1_ir}_${p1_ir}_et_${s2_ir}_${p2_ir}.tif /\n",
    "#${tmp_dir}/${date}_${heure}_VIS_avecalpha_tanh_${s1}_${p1}_et_${s2}_${p2}.tif /\n",
    "#${tmp_dir}/${date}_${heure}_VIS_avecalpha_tanh_${s1}_${p1}_${s2}_${p2}_et_IR_avecalpha_tanh_${s1_ir}_${p1_ir}_${s2_ir}_${p2_ir}.tif\n",
    "\n",
    "# Etape 1 :\n",
    "img = Image.open(tmp_dir + f'/{date}_{heure}_VIS_avecalpha_tanh_{s1}_{p1}_et_{s2}_{p2}.tif', 'r')\n",
    "fond = Image.open(tmp_dir + f'/{date}_{heure}_IR_avecalpha_tanh_{s1_ir}_{p1_ir}_et_{s2_ir}_{p2_ir}.tif', 'r')\n",
    "fond.paste(img, (0,0), img)\n",
    "fond.save(resu_dir + f'/{date}_{heure}_VIS_avecalpha_tanh_{s1}_{p1}_et_{s2}_{p2}_et_{date}_{heure}_IR_avecalpha_tanh_{s1_ir}_{p1_ir}_et_{s2_ir}_{p2_ir}.tif')\n",
    "\n",
    "# Etape 2 :\n",
    "img2 = Image.open(resu_dir + f'/{date}_{heure}_VIS_avecalpha_tanh_{s1}_{p1}_et_{s2}_{p2}_et_{date}_{heure}_IR_avecalpha_tanh_{s1_ir}_{p1_ir}_et_{s2_ir}_{p2_ir}.tif', 'r')\n",
    "fond2 = Image.open('./data/meta/blue_marble_msg4.tif', 'r')\n",
    "fond2.paste(img2, (0,0), img2)\n",
    "fond2.save(resu_dir + f'/{date}_{heure}_VIS_tanh_{s1}_{p1}_{s2}_{p2}_et_IR_tanh_{s1_ir}_{p1_ir}_{s2_ir}_{p2_ir}_sur_bluemarble.jpg')\n",
    "#im_final = Image.open(resu_dir + f'/{date}_{heure}_VIS_tanh_{s1}_{p1}_{s2}_{p2}_et_IR_tanh_{s1_ir}_{p1_ir}_{s2_ir}_{p2_ir}_sur_bluemarble.jpg', 'r')\n",
    "#display(im_final)\n",
    "\n",
    "#convert -gamma 1.1 -composite /data/maussa/tmp/blue_marble_msg4.tif /\n",
    "#${tmp_dir}/${date}_${heure}_VIS_avecalpha_tanh_${s1}_${p1}_${s2}_${p2}_et_IR_avecalpha_tanh_${s1_ir}_${p1_ir}_${s2_ir}_${p2_ir}.tif /\n",
    "#${resu_dir}/${date}_${heure}_VIS_tanh_${s1}_${p1}_${s2}_${p2}_et_IR_tanh_${s1_ir}_${p1_ir}_${s2_ir}_${p2_ir}_sur_bluemarble.jpg"
   ]
  },
  {
   "cell_type": "code",
   "execution_count": null,
   "id": "2cdfa732-c4c0-460a-a234-6f1277492954",
   "metadata": {},
   "outputs": [],
   "source": [
    "img2 = Image.open(resu_dir + f'/{date}_{heure}_VIS_avecalpha_tanh_{s1}_{p1}_et_{s2}_{p2}_et_{date}_{heure}_IR_avecalpha_tanh_{s1_ir}_{p1_ir}_et_{s2_ir}_{p2_ir}.tif', 'r')\n",
    "fond2 = Image.open('./data/meta/blue_marble_msg4.tif', 'r')\n",
    "fond2.paste(img2, (0,0), img2)\n",
    "fond2.save(resu_dir + f'/{date}_{heure}_VIS_tanh_{s1}_{p1}_{s2}_{p2}_et_IR_tanh_{s1_ir}_{p1_ir}_{s2_ir}_{p2_ir}_sur_bluemarble.jpg')"
   ]
  },
  {
   "cell_type": "code",
   "execution_count": null,
   "id": "7d5503f2-40e6-46ba-8fcc-47f04885000b",
   "metadata": {},
   "outputs": [],
   "source": [
    "display(img)\n",
    "display(img2)"
   ]
  },
  {
   "cell_type": "code",
   "execution_count": null,
   "id": "b5e6d304-8bed-4130-ad23-225d4a5dfd5f",
   "metadata": {},
   "outputs": [],
   "source": []
  }
 ],
 "metadata": {
  "kernelspec": {
   "display_name": "Python [conda env:.conda-env_MF]",
   "language": "python",
   "name": "conda-env-.conda-env_MF-py"
  },
  "language_info": {
   "codemirror_mode": {
    "name": "ipython",
    "version": 3
   },
   "file_extension": ".py",
   "mimetype": "text/x-python",
   "name": "python",
   "nbconvert_exporter": "python",
   "pygments_lexer": "ipython3",
   "version": "3.12.4"
  }
 },
 "nbformat": 4,
 "nbformat_minor": 5
}
