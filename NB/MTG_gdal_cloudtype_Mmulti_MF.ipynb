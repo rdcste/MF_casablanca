{
 "cells": [
  {
   "cell_type": "markdown",
   "id": "122dc9cd-7977-4b0a-aea2-7e6d6c75ae9e",
   "metadata": {},
   "source": [
    "<img src='../OUTILS/bandeau_MF.png' align='right' width='100%'/>"
   ]
  },
  {
   "cell_type": "markdown",
   "id": "a3719fcd-2554-4d3a-b83e-cc2ec2150faf",
   "metadata": {},
   "source": [
    "<div class=\"alert alert-info alert-success\">\n",
    "<h3>Elaboration de la RGB Cloud Type - FCI /MTG </h3></div>\n",
    "\n",
    "## <a id='TOC-TOP'></a>Contenus"
   ]
  },
  {
   "cell_type": "markdown",
   "id": "757c454c-6159-4234-88ef-19bd9513c634",
   "metadata": {},
   "source": [
    "<div class=\"alert alert-block alert-warning\">\n",
    "    \n",
    "<b>PREREQUIS </b>\n",
    "    \n",
    "Ce Notebook ne nécessite pas de prérequis \n",
    "\n",
    "</div>\n",
    "<hr>"
   ]
  },
  {
   "cell_type": "markdown",
   "id": "6d0f9431-7fb7-4afd-9935-ef7b4e10d10c",
   "metadata": {},
   "source": [
    "<div class=\"alert alert-info\" role=\"alert\">\n",
    "\n",
    "## <a id='section1'></a>1.Tout d'abord, il faut procéder à l'importation des librairies nécessaires.\n",
    "\n",
    "</div>"
   ]
  },
  {
   "cell_type": "code",
   "execution_count": null,
   "id": "6b07e118-3248-4a34-8a6f-f505574b3191",
   "metadata": {
    "tags": []
   },
   "outputs": [],
   "source": [
    "from PIL import Image\n",
    "from IPython.display import display\n",
    "import matplotlib as mpl\n",
    "import matplotlib.pyplot as plt\n",
    "import numpy as np\n",
    "import scipy\n",
    "import os\n",
    "import subprocess"
   ]
  },
  {
   "cell_type": "markdown",
   "id": "70b4b5bf-63af-4b37-9697-14fdb38f1fc0",
   "metadata": {},
   "source": [
    "### Données d'entrée : fichier multicanaux mtg"
   ]
  },
  {
   "cell_type": "code",
   "execution_count": null,
   "id": "98d9e253-9207-4a3e-b89a-63e85dbd56e6",
   "metadata": {},
   "outputs": [],
   "source": [
    "download_dir = os.path.join(os.getcwd(), \"../RESULTATS\")\n",
    "os.makedirs(download_dir, exist_ok=True)"
   ]
  },
  {
   "cell_type": "code",
   "execution_count": null,
   "id": "78032105-b9b6-4b4e-b0d9-38dd98458957",
   "metadata": {},
   "outputs": [],
   "source": [
    "input = '../../MF_DATA/MTG/MTG_multic/Multic2km_mtgi1_20231122_140000.nc'"
   ]
  },
  {
   "cell_type": "code",
   "execution_count": null,
   "id": "37ae9cc5-4ee6-4548-92dc-16a28cab70bd",
   "metadata": {
    "tags": []
   },
   "outputs": [],
   "source": [
    "input"
   ]
  },
  {
   "cell_type": "code",
   "execution_count": null,
   "id": "f7771525-a8e2-4051-8575-0196bcfb12b0",
   "metadata": {},
   "outputs": [],
   "source": [
    "pwd"
   ]
  },
  {
   "cell_type": "markdown",
   "id": "bec10450-aab5-4169-abd5-27daa75ea052",
   "metadata": {},
   "source": [
    "### Définition du dossier de sortie :"
   ]
  },
  {
   "cell_type": "code",
   "execution_count": null,
   "id": "fd62ccb7-b9cf-4ade-888c-52e8f7b9b9f9",
   "metadata": {},
   "outputs": [],
   "source": [
    "download_dir = os.path.join(os.getcwd(), \"../RESULTATS\")\n",
    "os.makedirs(download_dir, exist_ok=True)"
   ]
  },
  {
   "cell_type": "code",
   "execution_count": null,
   "id": "5892a000-9884-4d0b-bc79-fd05d4798aaa",
   "metadata": {},
   "outputs": [],
   "source": [
    "output = '../RESULTATS'"
   ]
  },
  {
   "cell_type": "code",
   "execution_count": null,
   "id": "f36124bd-5ce9-4fa8-9138-4792612638f0",
   "metadata": {},
   "outputs": [],
   "source": [
    "output"
   ]
  },
  {
   "cell_type": "code",
   "execution_count": null,
   "id": "24ff6c59-c144-4e58-a12d-c5ea48ed9041",
   "metadata": {
    "tags": []
   },
   "outputs": [],
   "source": [
    "#!gdalinfo $input"
   ]
  },
  {
   "cell_type": "markdown",
   "id": "8d2c1624-6b70-49b0-8473-9510eb888f16",
   "metadata": {
    "tags": []
   },
   "source": [
    "<div class=\"alert alert-info\" role=\"alert\">\n",
    "\n",
    "## <a id='section2'></a>2.Extraction des données dans le NetCDF\n",
    "[Back to top](#TOC-TOP)\n",
    "\n",
    "</div>\n",
    "\n",
    "\n",
    "Pour rappel, la recette de la RGB cloud type est la suivante :\n",
    "\n",
    "<img src='../OUTILS/cloudtype_tableau.png' align='right' width='100%'/>\n",
    "\n",
    "Red: NIR1.38, range 0 to 10 %, Gamma = 1.5\n",
    "\n",
    "Green: VIS0.67, Range 0 to 80 %, Gamma = 0.75\n",
    "\n",
    "Blue: VIS1.61, range 0 to 80 %, Gamma = 1\n",
    "\n",
    "Extraction des données des trois longueurs d'ondes nécessaires aux calculs des différences :"
   ]
  },
  {
   "cell_type": "code",
   "execution_count": null,
   "id": "db684e22-6bd8-4726-b7cf-5c1184bbae5a",
   "metadata": {},
   "outputs": [],
   "source": [
    "!gdal_translate NETCDF:\"$input\":IR_013 {output}/013.tif\n",
    "!gdal_translate NETCDF:\"$input\":VIS006 {output}/006.tif\n",
    "!gdal_translate NETCDF:\"$input\":IR_016 {output}/016.tif"
   ]
  },
  {
   "cell_type": "markdown",
   "id": "e7a3da5d-10ec-4127-a752-f29d66354a1c",
   "metadata": {},
   "source": [
    "Extraction des données IR_013 pour la bande rouge.\n",
    "Les valeurs 0 et 10 % \n"
   ]
  },
  {
   "cell_type": "code",
   "execution_count": null,
   "id": "83c5a506-fee1-4c79-8880-c1211898969f",
   "metadata": {},
   "outputs": [],
   "source": [
    "!gdal_translate -ot byte -scale 0 1000 0 255 NETCDF:\"$input\":IR_013 {output}/013_scale.tif"
   ]
  },
  {
   "cell_type": "markdown",
   "id": "32bbe76b-27ee-4fc2-95c5-3f2ff7d4e0c1",
   "metadata": {},
   "source": [
    "Extraction des données VIS006 pour la bande verte.\n",
    "Les valeurs 0 et 80 % \n",
    "Extraction des données IR 1.6 pour la bande bleue.Les valeurs 0 et 80 % \n",
    "\n"
   ]
  },
  {
   "cell_type": "code",
   "execution_count": null,
   "id": "ab07df4a-1d8c-4e84-82b0-f487fafab609",
   "metadata": {},
   "outputs": [],
   "source": [
    "!gdal_translate -ot byte -scale 0 8000 0 255 NETCDF:\"$input\":VIS006 {output}/006_scale.tif\n",
    "!gdal_translate -ot byte -scale 0 8000 0 255 NETCDF:\"$input\":IR_016 {output}/016_scale.tif"
   ]
  },
  {
   "attachments": {
    "d96c291a-bf4a-41e3-8436-7db6281466a2.png": {
     "image/png": "[encoded data removed]"
    }
   },
   "cell_type": "markdown",
   "id": "a0110faa-2f67-4b28-b2d2-01df04a5253f",
   "metadata": {},
   "source": [
    "### Calcul de la correction gamma avec gdal_calc.py :\n",
    "\n",
    "Pour rappel la formule de la correction gamme est :\n",
    "\n",
    "![image.png](attachment:d96c291a-bf4a-41e3-8436-7db6281466a2.png)\n",
    "\n",
    "\n",
    "(Note : imagemagick permet de faire une correction gamma mais n'est pas compatible avec Windows)"
   ]
  },
  {
   "cell_type": "markdown",
   "id": "311de0d1-bf95-4921-a354-8bbdd818f357",
   "metadata": {},
   "source": [
    "La première étape consiste à extraire les valeurs min et max de l'image."
   ]
  },
  {
   "cell_type": "code",
   "execution_count": null,
   "id": "c8247258-2339-4a1c-a371-705ef8d246b5",
   "metadata": {},
   "outputs": [],
   "source": [
    "file_in = '../RESULTATS/013_scale.tif'\n",
    "imgpil = Image.open(file_in)  \n",
    "img = np.array(imgpil)\n",
    "max = np.max(img)\n",
    "min = np.min(img)"
   ]
  },
  {
   "cell_type": "markdown",
   "id": "3b14b376-35bf-441c-9867-8e7f485bfc81",
   "metadata": {},
   "source": [
    "Ensuite on calcule et on applique la correction gamma pour une valeur de 1.5 :"
   ]
  },
  {
   "cell_type": "code",
   "execution_count": null,
   "id": "61f5b63f-8bd4-494b-9b5d-9366f9080ed5",
   "metadata": {},
   "outputs": [],
   "source": [
    "gamma= 1.5"
   ]
  },
  {
   "cell_type": "code",
   "execution_count": null,
   "id": "32035db6-83da-446e-88dd-a74be005ad7f",
   "metadata": {},
   "outputs": [],
   "source": [
    "!gdal_calc.py --quiet --NoDataValue 0 --overwrite -A {file_in} --calc=\"numpy.maximum(A*0.,{max}*((A-{min}.)/({max}-{min}))**(1/{gamma}))\" --outfile {output}/013_scale_gamma.tif"
   ]
  },
  {
   "cell_type": "code",
   "execution_count": null,
   "id": "e4500d58-a624-4673-804d-35f4b4a6d726",
   "metadata": {},
   "outputs": [],
   "source": [
    "file_in = '../RESULTATS/006_scale.tif'\n",
    "imgpil = Image.open(file_in)  \n",
    "img = np.array(imgpil)\n",
    "max = np.max(img)\n",
    "min = np.min(img)"
   ]
  },
  {
   "cell_type": "code",
   "execution_count": null,
   "id": "7d41bd0d-7d1c-40cc-8bfa-32b33d2e0663",
   "metadata": {},
   "outputs": [],
   "source": [
    "gamma= 0.75"
   ]
  },
  {
   "cell_type": "code",
   "execution_count": null,
   "id": "4a0a3c2c-eb72-4051-9942-7d139403581b",
   "metadata": {},
   "outputs": [],
   "source": [
    "!gdal_calc.py --quiet --NoDataValue 0 --overwrite -A {file_in} --calc=\"numpy.maximum(A*0.,{max}*((A-{min}.)/({max}-{min}))**(1/{gamma}))\" --outfile {output}/006_scale_gamma.tif"
   ]
  },
  {
   "cell_type": "code",
   "execution_count": null,
   "id": "06136a70-55b5-449b-8497-76ea2bf6eaea",
   "metadata": {},
   "outputs": [],
   "source": [
    "file_in = '../RESULTATS/016_scale.tif'\n",
    "imgpil = Image.open(file_in)  \n",
    "img = np.array(imgpil)\n",
    "max = np.max(img)\n",
    "min = np.min(img)"
   ]
  },
  {
   "cell_type": "code",
   "execution_count": null,
   "id": "43a9cdce-54c1-49a1-b895-ddab3e722014",
   "metadata": {},
   "outputs": [],
   "source": [
    "gamma= 1"
   ]
  },
  {
   "cell_type": "code",
   "execution_count": null,
   "id": "6d28efa6-ab25-4917-b5e3-7fec51d22321",
   "metadata": {},
   "outputs": [],
   "source": [
    "!gdal_calc.py --quiet --NoDataValue 0 --overwrite -A {file_in} --calc=\"numpy.maximum(A*0.,{max}*((A-{min}.)/({max}-{min}))**(1/{gamma}))\" --outfile {output}/016_scale_gamma.tif"
   ]
  },
  {
   "cell_type": "markdown",
   "id": "cdbec3e0-d122-42c0-8e08-5d8f0569d73d",
   "metadata": {},
   "source": [
    "<div class=\"alert alert-info\" role=\"alert\">\n",
    "\n",
    "## <a id='section3'></a>3.Fabrication de la RGB\n",
    "[Back to top](#TOC-TOP)\n",
    "\n",
    "</div>\n",
    "\n",
    "(la commande gdal_merge.py n'écrase pas en sortie c'est pourquoi un rm est fait pour supprimer une image qui aurait été créée précédemment)"
   ]
  },
  {
   "cell_type": "code",
   "execution_count": null,
   "id": "a1e8b5cc-b8c4-450d-8105-6ca3145b199e",
   "metadata": {},
   "outputs": [],
   "source": [
    "!gdal_merge.py -separate {output}/013_scale_gamma.tif {output}/006_scale_gamma.tif {output}/016_scale_gamma.tif -o {output}/RGB_cloudtype.tif"
   ]
  },
  {
   "cell_type": "markdown",
   "id": "390bae86-bfc2-4362-882b-5071418e02a8",
   "metadata": {},
   "source": [
    "### Création et affichage d'une image redimmensionnée"
   ]
  },
  {
   "cell_type": "code",
   "execution_count": null,
   "id": "f5ce8b0e-a8d6-4aae-89dc-003ad8c6d753",
   "metadata": {},
   "outputs": [],
   "source": [
    "!convert -resize 500x500 {output}/RGB_cloudtype.tif {output}/RGB_cloudtype_min.jpg"
   ]
  },
  {
   "cell_type": "markdown",
   "id": "f44018dd-ec6d-451c-98ba-642a30d8aa2d",
   "metadata": {},
   "source": [
    "### Visualisation du résultat"
   ]
  },
  {
   "cell_type": "code",
   "execution_count": null,
   "id": "99422cc0-a76b-4975-8797-56c9453c0483",
   "metadata": {},
   "outputs": [],
   "source": [
    "im = Image.open(output + '/RGB_cloudtype_min.jpg', 'r')\n",
    "display(im)"
   ]
  },
  {
   "cell_type": "markdown",
   "id": "f0a04555-efcd-4148-b0fc-8e82195ff395",
   "metadata": {},
   "source": [
    "### Définition de la zone du zoom"
   ]
  },
  {
   "cell_type": "code",
   "execution_count": null,
   "id": "d96358df-051b-4e35-bd1f-3ad9be9e5fb5",
   "metadata": {},
   "outputs": [],
   "source": [
    "N=40\n",
    "S=15\n",
    "O=-23\n",
    "E=8"
   ]
  },
  {
   "cell_type": "code",
   "execution_count": null,
   "id": "12ac73ca-b98a-4924-a1d7-4e962b780630",
   "metadata": {},
   "outputs": [],
   "source": [
    "!gdalinfo {output}/RGB_cloudtype.tif"
   ]
  },
  {
   "cell_type": "markdown",
   "id": "700f3952-e781-4e90-b02b-4709038d13f0",
   "metadata": {},
   "source": [
    "<div class=\"alert alert-info\" role=\"alert\">\n",
    "\n",
    "## <a id='section4'></a>4.Découpes et reprojections\n",
    "[Back to top](#TOC-TOP)\n",
    "\n",
    "</div>"
   ]
  },
  {
   "cell_type": "markdown",
   "id": "bb6b8c3e-6d83-4e6c-a0b9-a115500f4702",
   "metadata": {},
   "source": [
    "## WGS 84 (World Geodetic System 1984): EPSG: 4326 Un système de coordonnées géographiques utilisé pour le GPS et d'autres applications géospatiales. "
   ]
  },
  {
   "cell_type": "code",
   "execution_count": null,
   "id": "a30a027f-482a-46c0-93b8-5440b30d45cf",
   "metadata": {},
   "outputs": [],
   "source": [
    "!gdalwarp -t_srs \"EPSG:4326\" -te -23 15 8 40 -overwrite {output}/RGB_cloudtype.tif {output}/RGB_cloudtype_zoom.tif"
   ]
  },
  {
   "cell_type": "markdown",
   "id": "2a9d006e-9823-43a0-9560-c15cad8f885b",
   "metadata": {},
   "source": [
    "### Création et affichage d'une image zoomée redimmensionnée"
   ]
  },
  {
   "cell_type": "code",
   "execution_count": null,
   "id": "0c1d54e0-5e4d-4070-af1e-8b9aad8d6406",
   "metadata": {},
   "outputs": [],
   "source": [
    "!convert -resize 500x500 {output}/RGB_cloudtype_zoom.tif {output}/RGB_cloudtype_zoom_min.jpg"
   ]
  },
  {
   "cell_type": "code",
   "execution_count": null,
   "id": "ee440d49-4689-4458-a3ee-00f7d0ec2c27",
   "metadata": {},
   "outputs": [],
   "source": [
    "im2 = Image.open(output + '/RGB_cloudtype_zoom_min.jpg', 'r')\n",
    "display(im2)"
   ]
  },
  {
   "cell_type": "markdown",
   "id": "beca53fd-a36e-4c7f-b78a-1c5086bf56ca",
   "metadata": {},
   "source": [
    "## Utilisation de la projection orthographique"
   ]
  },
  {
   "cell_type": "code",
   "execution_count": null,
   "id": "043d39f5-48cd-431c-9bb5-a745a8647c98",
   "metadata": {},
   "outputs": [],
   "source": [
    "!gdalwarp -t_srs \"+proj=ortho lat_0=30 lon_0=-8\" {output}/RGB_cloudtype_zoom.tif {output}/RGB_cloudtype_zoom_ortho.tif"
   ]
  },
  {
   "cell_type": "code",
   "execution_count": null,
   "id": "291bac57-5a95-408f-b130-0225cf6f08c7",
   "metadata": {},
   "outputs": [],
   "source": [
    "!convert -resize 500x500 {output}/RGB_cloudtype_zoom_ortho.tif {output}/RGB_cloudtype_zoom_ortho_min.jpg"
   ]
  },
  {
   "cell_type": "code",
   "execution_count": null,
   "id": "29718b49-344a-4fac-87c3-4add36ab34cc",
   "metadata": {},
   "outputs": [],
   "source": [
    "im3 = Image.open(output + '/RGB_cloudtype_zoom_ortho_min.jpg', 'r')\n",
    "display(im3)"
   ]
  },
  {
   "cell_type": "markdown",
   "id": "21599687-89f0-46c6-9b0e-c019bcc32a4e",
   "metadata": {},
   "source": [
    "## Utilisation de la projection Mercator (3857)"
   ]
  },
  {
   "cell_type": "markdown",
   "id": "ffe1d13b-1de1-4d9e-a14a-b6359ab973be",
   "metadata": {},
   "source": [
    "Notez que si vous utilisez la projection Mercator, les coordonnées -te doivent être exprimées en mètres, et non plus en degrés de latitude et de longitude. \n",
    "Vous devrez donc convertir les coordonnées en mètres pour utiliser cette projection."
   ]
  },
  {
   "cell_type": "code",
   "execution_count": null,
   "id": "780938dc-3c7c-4159-9c4c-4ee41be8e758",
   "metadata": {},
   "outputs": [],
   "source": [
    "#Conversion du point en bas à gauche (x,y)\n",
    "!echo -23 15 | cs2cs +init=epsg:4326 +to +init=epsg:3857"
   ]
  },
  {
   "cell_type": "code",
   "execution_count": null,
   "id": "b914de24-b56e-46a2-abf5-56958913ef16",
   "metadata": {},
   "outputs": [],
   "source": [
    "#Conversion du point en haut à droite (x,y)\n",
    "!echo 8 40 | cs2cs +init=epsg:4326 +to +init=epsg:3857"
   ]
  },
  {
   "cell_type": "code",
   "execution_count": null,
   "id": "2b4d6f6b-7787-4706-8226-a61a5f8a16e7",
   "metadata": {},
   "outputs": [],
   "source": [
    "!gdalwarp -t_srs \"EPSG:3857\" -te -2560348.29 1689200.14 890555.93 4865942.28 -overwrite {output}/RGB_cloudtype_zoom.tif {output}/RGB_cloudtype_zoom_3857.tif"
   ]
  },
  {
   "cell_type": "code",
   "execution_count": null,
   "id": "31fa946c-734c-4463-a081-7fa1c67eda30",
   "metadata": {},
   "outputs": [],
   "source": [
    "!convert -resize 500x500 {output}/RGB_cloudtype_zoom_3857.tif {output}/RGB_cloudtype_zoom_3857_min.jpg"
   ]
  },
  {
   "cell_type": "code",
   "execution_count": null,
   "id": "2e08896c-483b-4c40-a38b-06f9a982ccc4",
   "metadata": {},
   "outputs": [],
   "source": [
    "im4 = Image.open(output + '/RGB_cloudtype_zoom_3857_min.jpg', 'r')\n",
    "display(im4)"
   ]
  },
  {
   "cell_type": "markdown",
   "id": "fdc0a02e-34a6-4362-874a-6f0be985f476",
   "metadata": {},
   "source": [
    "Nettoyage"
   ]
  },
  {
   "cell_type": "code",
   "execution_count": null,
   "id": "95be0481-ca6a-435d-89b4-92e80b01daf9",
   "metadata": {},
   "outputs": [],
   "source": [
    "!rm {output}/*tif"
   ]
  },
  {
   "cell_type": "code",
   "execution_count": null,
   "id": "973d10a5-66ed-4b03-a45c-d8a2463f77a1",
   "metadata": {},
   "outputs": [],
   "source": []
  }
 ],
 "metadata": {
  "kernelspec": {
   "display_name": "Python [conda env:.conda-env_MF]",
   "language": "python",
   "name": "conda-env-.conda-env_MF-py"
  },
  "language_info": {
   "codemirror_mode": {
    "name": "ipython",
    "version": 3
   },
   "file_extension": ".py",
   "mimetype": "text/x-python",
   "name": "python",
   "nbconvert_exporter": "python",
   "pygments_lexer": "ipython3",
   "version": "3.12.4"
  }
 },
 "nbformat": 4,
 "nbformat_minor": 5
}
