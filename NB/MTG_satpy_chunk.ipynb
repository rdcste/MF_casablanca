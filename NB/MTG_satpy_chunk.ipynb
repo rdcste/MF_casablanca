{
 "cells": [
  {
   "cell_type": "markdown",
   "id": "27ce33ca-6e76-41f8-801c-26fdd5e8be01",
   "metadata": {},
   "source": [
    "<img src='../OUTILS/bandeau_MF.png' align='right' width='100%'/>"
   ]
  },
  {
   "cell_type": "markdown",
   "id": "a9c7198e-d979-4160-86aa-b0ee70c2ed2e",
   "metadata": {},
   "source": [
    "<div class=\"alert alert-info alert-success\">\n",
    "<h3>Elaboration d'image composite avec SATPY- FCI /MTG </h3></div>\n",
    "\n",
    "## <a id='TOC-TOP'></a>Contenus"
   ]
  },
  {
   "cell_type": "markdown",
   "id": "757c454c-6159-4234-88ef-19bd9513c634",
   "metadata": {},
   "source": [
    "<div class=\"alert alert-block alert-warning\">\n",
    "    \n",
    "<b>PREREQUIS </b>\n",
    "    \n",
    "Ce Notebook ne nécessite pas de prérequis. \n",
    "Le kernel \"satpy\" doit être utilisé\n",
    "\n",
    "</div>\n",
    "<hr>"
   ]
  },
  {
   "cell_type": "markdown",
   "id": "24aa9cf7-7c58-432d-8ce8-1237f87f8693",
   "metadata": {},
   "source": [
    "SatPy\n",
    "\n",
    "Il s'agit d'une bibliothèque Python pour le traitement des données des satellites météorologiques\n",
    "\n",
    "Satpy permet de lire, manipuler et écrire des données issues d'instruments satellites météorologiques d'observation de la Terre.\n",
    "\n",
    "Satpy fournit la possibilité de lire les données de différents formats (readers) et de manipuler les paramètres géophysiques de ces différents formats de fichiers.\n",
    "\n",
    "Satpy fournit également des interfaces pour créer des images RVB (rouge/vert/bleu) qui combinent les données de plusieurs bandes d'instruments ou produits.\n",
    "\n",
    "Diverses corrections atmosphériques et améliorations visuelles sont fournies pour améliorer le rendu et la qualité des images de sortie. Les données de sortie peuvent être écrites dans plusieurs formats de fichiers tels que les fichiers NetCDF, PNG et GeoTIFF.\n",
    "\n",
    "Satpy permet également aux utilisateurs de rééchantillonner les données sur des grilles géographiques projetées (zones).\n",
    "\n",
    "Pour obtenir de la documentation sur Satpy, quelques exemples, et un tutoriel de démarrage rapide : https://satpy.readthedocs.io/en/latest/index.html"
   ]
  },
  {
   "cell_type": "markdown",
   "id": "6d0f9431-7fb7-4afd-9935-ef7b4e10d10c",
   "metadata": {},
   "source": [
    "<div class=\"alert alert-info\" role=\"alert\">\n",
    "\n",
    "## <a id='section1'></a>1.Tout d'abord, il faut procéder à l'importation des librairies nécessaires.\n",
    "\n",
    "</div>"
   ]
  },
  {
   "cell_type": "code",
   "execution_count": null,
   "id": "6b07e118-3248-4a34-8a6f-f505574b3191",
   "metadata": {
    "tags": []
   },
   "outputs": [],
   "source": [
    "from satpy.scene import Scene\n",
    "from satpy import find_files_and_readers\n",
    "from datetime import datetime\n",
    "import sys\n",
    "from pyresample.geometry import AreaDefinition\n",
    "import numpy as np\n",
    "import os\n",
    "from PIL import Image\n",
    "import subprocess"
   ]
  },
  {
   "cell_type": "code",
   "execution_count": null,
   "id": "394b7e4e-34f7-4269-a3db-1231b9dee934",
   "metadata": {},
   "outputs": [],
   "source": [
    "os.system(\"echo $PATH\")"
   ]
  },
  {
   "cell_type": "markdown",
   "id": "de12c338-6a21-4433-8374-e47a102b8f60",
   "metadata": {},
   "source": [
    "### Données d'entrée : fichiers chunk mtg (40)"
   ]
  },
  {
   "cell_type": "code",
   "execution_count": null,
   "id": "903f387a-1a30-47f1-9c6c-4ff4c6f7c04a",
   "metadata": {},
   "outputs": [],
   "source": [
    "input = '../../MF_DATA/MTG/chunk_decomp1/'"
   ]
  },
  {
   "cell_type": "code",
   "execution_count": null,
   "id": "75a8ad62-3aab-49c2-9ffb-7e75f69a7d17",
   "metadata": {},
   "outputs": [],
   "source": [
    "download_dir = os.path.join(os.getcwd(), \"../RESULTATS\")\n",
    "os.makedirs(download_dir, exist_ok=True)"
   ]
  },
  {
   "cell_type": "code",
   "execution_count": null,
   "id": "a34bc7c9-42f1-4bae-83b4-d9bc6031fbea",
   "metadata": {},
   "outputs": [],
   "source": [
    "output = '../RESULTATS'"
   ]
  },
  {
   "cell_type": "markdown",
   "id": "ec8b680a-9ce3-4bcd-9e42-84032ddf774d",
   "metadata": {},
   "source": [
    "### Choix de la RGB à produire, parmi notamment:\n",
    "airmass ash cimss_cloud_type cloud_phase cloud_phase_distinction cloud_phase_distinction_raw cloud_phase_raw cloudtop convection day_microphysics dust fog geo_color green_snow ir108_3d ir_cloud_day natural_color ndvi_hybrid_green night_fog night_microphysics rocket_plume_day rocket_plume_night true_color true_color_reproduction "
   ]
  },
  {
   "cell_type": "code",
   "execution_count": null,
   "id": "a164e7ce-845a-43b7-9a2a-9c9d458a4702",
   "metadata": {},
   "outputs": [],
   "source": [
    "composite_name = \"dust\""
   ]
  },
  {
   "cell_type": "markdown",
   "id": "73375f86-a882-46bb-aab6-47b919980631",
   "metadata": {},
   "source": [
    "### Définition de la date et heure de la composite à créer\n",
    "(202401091200 disponible par défaut)"
   ]
  },
  {
   "cell_type": "code",
   "execution_count": null,
   "id": "032004e6-5410-4811-b066-d9d11c29e8ad",
   "metadata": {},
   "outputs": [],
   "source": [
    "yyyy=int('2024')\n",
    "mm=int('01')\n",
    "dd=int('09')\n",
    "hh_debut=int('12')\n",
    "min_debut=int('00')\n",
    "hh_fin=int('12')\n",
    "min_fin=int('10')"
   ]
  },
  {
   "cell_type": "code",
   "execution_count": null,
   "id": "19541aea-f142-4ff1-ad0e-155f49d7cc6c",
   "metadata": {},
   "outputs": [],
   "source": [
    "### Définition du reader"
   ]
  },
  {
   "cell_type": "code",
   "execution_count": null,
   "id": "690f1b7a-0b37-42ec-92b5-393f49b8c30b",
   "metadata": {},
   "outputs": [],
   "source": [
    "reader_to_use = \"fci_l1c_nc\""
   ]
  },
  {
   "cell_type": "code",
   "execution_count": null,
   "id": "28772287-24be-46c1-89a3-6e7e97f8f980",
   "metadata": {},
   "outputs": [],
   "source": [
    "filename = (output + '/RGB_sortie.tif' )\n",
    "filename_image_out = (output + '/RGB_' + composite_name + '_min' )\n",
    "filename_image_zoom_out = (output + '/RGB_' + composite_name + '_zoom_min' )"
   ]
  },
  {
   "cell_type": "code",
   "execution_count": null,
   "id": "6c1bbbe6-77b9-4199-ba26-5371dd8342cf",
   "metadata": {},
   "outputs": [],
   "source": [
    "myfiles = find_files_and_readers(base_dir=input,\n",
    "                                 start_time=datetime(yyyy,mm,dd,hh_debut,min_debut),\n",
    "                                 end_time=datetime(yyyy,mm,dd,hh_fin,min_fin),\n",
    "                                 reader=reader_to_use)"
   ]
  },
  {
   "cell_type": "code",
   "execution_count": null,
   "id": "f87334a6-dcc8-46fa-b929-c6740fa174e5",
   "metadata": {},
   "outputs": [],
   "source": [
    "!gdalinfo ../../MF_DATA/MTG/chunk_decomp1/W_XX-EUMETSAT-Darmstadt,IMG+SAT,MTI1+FCI-1C-RRAD-FDHSI-FD--CHK-BODY--DIS-NC4E_C_EUMT_20240109121040_IDPFI_OPE_20240109120908_20240109120924_N_JLS_C_0073_0040.nc"
   ]
  },
  {
   "cell_type": "code",
   "execution_count": null,
   "id": "4b4733f9-5950-4e2d-96ea-3194393c60a0",
   "metadata": {
    "jupyter": {
     "outputs_hidden": true
    }
   },
   "outputs": [],
   "source": [
    "!gdalinfo NETCDF:\"../../MF_DATA/MTG/chunk_decomp1/W_XX-EUMETSAT-Darmstadt,IMG+SAT,MTI1+FCI-1C-RRAD-FDHSI-FD--CHK-BODY--DIS-NC4E_C_EUMT_20240109121040_IDPFI_OPE_20240109120908_20240109120924_N_JLS_C_0073_0040.nc\":/data/vis_04/measured/pixel_quality"
   ]
  },
  {
   "cell_type": "code",
   "execution_count": null,
   "id": "ac3c7aef-099f-478d-98be-1142226b6cba",
   "metadata": {},
   "outputs": [],
   "source": [
    "scn = Scene(filenames=myfiles)"
   ]
  },
  {
   "cell_type": "markdown",
   "id": "0825cc25-3e74-4f14-9ccc-d1bce4ceb51f",
   "metadata": {},
   "source": [
    "### Liste de toutes les composites disponibles"
   ]
  },
  {
   "cell_type": "code",
   "execution_count": null,
   "id": "0ba20200-14a6-4681-9489-aa9050cdb311",
   "metadata": {},
   "outputs": [],
   "source": [
    "print(scn.available_composite_names())"
   ]
  },
  {
   "cell_type": "markdown",
   "id": "4364d119-b3cb-4a94-970b-1c23e7a784b0",
   "metadata": {},
   "source": [
    "### Liste de tous les dataset disponibles"
   ]
  },
  {
   "cell_type": "code",
   "execution_count": null,
   "id": "81e0fc12-194b-42be-8f58-c8767b54e373",
   "metadata": {
    "jupyter": {
     "outputs_hidden": true
    }
   },
   "outputs": [],
   "source": [
    "print(scn.available_dataset_names())"
   ]
  },
  {
   "cell_type": "markdown",
   "id": "a5474f74-4fff-4497-94e2-8c489e034f88",
   "metadata": {},
   "source": [
    "### Creation du produit"
   ]
  },
  {
   "cell_type": "code",
   "execution_count": null,
   "id": "622835f7-f2f2-45bc-9edb-b65c44201e30",
   "metadata": {},
   "outputs": [],
   "source": [
    "scn.load([composite_name], upper_right_corner='NE')"
   ]
  },
  {
   "cell_type": "code",
   "execution_count": null,
   "id": "89d9ab92-d729-469d-b241-f5467e30507e",
   "metadata": {},
   "outputs": [],
   "source": [
    "natscn = scn.resample(scn.coarsest_area(), resampler='nearest')"
   ]
  },
  {
   "cell_type": "code",
   "execution_count": null,
   "id": "c4dad772-db00-4aec-9d08-e44ca6f19605",
   "metadata": {},
   "outputs": [],
   "source": [
    "natscn.save_dataset(composite_name, filename=filename)"
   ]
  },
  {
   "cell_type": "markdown",
   "id": "c0b9a999-cf32-4375-bc37-3005f8fdf6d1",
   "metadata": {},
   "source": [
    "### Défnition de la taille de l'image globe (pixels)"
   ]
  },
  {
   "cell_type": "code",
   "execution_count": null,
   "id": "605d00d3-8248-4336-afc8-a22d0aa691bc",
   "metadata": {},
   "outputs": [],
   "source": [
    "taille_redim = 800  # 5568x5568 par défaut"
   ]
  },
  {
   "cell_type": "code",
   "execution_count": null,
   "id": "ae4ac958-72fd-40f5-af72-ce49a0d73429",
   "metadata": {},
   "outputs": [],
   "source": [
    "# Construire la commande gdalwarp\n",
    "cmd1 = [\n",
    "    'gdalwarp',\n",
    "    '-ts', str(taille_redim), str(taille_redim),     # Option pour spécifier la taille en pixels (taille_redimxtaille_redim)\n",
    "    '-overwrite',              # Option pour écraser le fichier de sortie s'il existe\n",
    "    filename,\n",
    "    filename_image_out + '.tif'\n",
    "]\n",
    "#correspond par exemple à la commande: gdalwarp -ts 800 800 RGB_sortie.tif RGB_min.tif"
   ]
  },
  {
   "cell_type": "code",
   "execution_count": null,
   "id": "b3ddf025-a23d-46cc-82d2-76a9a99ccd14",
   "metadata": {},
   "outputs": [],
   "source": [
    "subprocess.run(cmd1)"
   ]
  },
  {
   "cell_type": "markdown",
   "id": "26ab762d-171f-491e-ae8f-3ee393f03660",
   "metadata": {},
   "source": [
    "### Rappel : nom du fichier de sortie"
   ]
  },
  {
   "cell_type": "code",
   "execution_count": null,
   "id": "30047cac-c0be-4ee5-a08f-3215704b4063",
   "metadata": {},
   "outputs": [],
   "source": [
    "filename_image_out"
   ]
  },
  {
   "cell_type": "code",
   "execution_count": null,
   "id": "95251dad-3551-4708-ab58-e3dd47bfed9d",
   "metadata": {},
   "outputs": [],
   "source": [
    "# Chemins vers les fichiers shapefile contenant les frontieres des pays\n",
    "input_shapefile = '../OUTILS/boundary/world-administrative-boundaries.shp'  # Chemin vers le shapefile"
   ]
  },
  {
   "cell_type": "markdown",
   "id": "173882ef-e527-41d6-b073-63d3bc6f609c",
   "metadata": {},
   "source": [
    "### Ajout des frontières"
   ]
  },
  {
   "cell_type": "code",
   "execution_count": null,
   "id": "67bcd9b4-a623-481d-a057-1a1db389361f",
   "metadata": {},
   "outputs": [],
   "source": [
    "# Définir la commande gdal_rasterize\n",
    "cmd2 = [\n",
    "    'gdal_rasterize',\n",
    "    '-b', '1' ,\n",
    "    '-burn', '255',  # Valeur de brûlure\n",
    "    '-b', '2' ,\n",
    "    '-burn', '255',  # Valeur de brûlure\n",
    "    '-b', '3' ,\n",
    "    '-burn', '255',  # Valeur de brûlure\n",
    "    '-l', 'world-administrative-boundaries',  # Nom de la couche\n",
    "    input_shapefile,  # Chemin vers le shapefile\n",
    "    filename_image_out + \".tif\"  # Chemin vers l'image raster de sortie\n",
    "]\n",
    "\n",
    "#Correspondance de la commande en 1 ligne : gdal_rasterize -b 1 -burn 255 -b 2 -burn 255 -b 3 -burn 255 -l world-administrative-boundaries ../OUTILS/boundary/world-administrative-boundaries.shp RGB_min.tif"
   ]
  },
  {
   "cell_type": "code",
   "execution_count": null,
   "id": "4854b2b6-847d-4fc8-8503-1c7c553b3adb",
   "metadata": {},
   "outputs": [],
   "source": [
    "# Exécuter la commande gdal_rasterize\n",
    "#subprocess.run(cmd1) # (montre les erreurs \"Point outside of projection domain\")\n",
    "with open(os.devnull, 'w') as devnull:\n",
    "    subprocess.run(cmd2, stderr=devnull)"
   ]
  },
  {
   "cell_type": "markdown",
   "id": "1027d293-e069-41c9-8e23-ae192f0af9ba",
   "metadata": {},
   "source": [
    "### Affichage de l'image globe dans le jupyter notebook"
   ]
  },
  {
   "cell_type": "code",
   "execution_count": null,
   "id": "9f589e5d-ca70-493f-b322-ca5f87812d64",
   "metadata": {},
   "outputs": [],
   "source": [
    "im = Image.open(filename_image_out + '.tif')\n",
    "display(im)"
   ]
  },
  {
   "cell_type": "markdown",
   "id": "0af815c3-da40-4109-a7cd-2abb3c747c85",
   "metadata": {},
   "source": [
    "### Création d'une image à partir d'une zone de découpe "
   ]
  },
  {
   "cell_type": "code",
   "execution_count": null,
   "id": "a6b347e9-acc9-4b38-ae18-abfa5eb26949",
   "metadata": {},
   "outputs": [],
   "source": [
    "### Définition de la zone, et redimmensionnement de l'image "
   ]
  },
  {
   "cell_type": "code",
   "execution_count": null,
   "id": "2f498093-4cc7-447a-8786-d01163c81c63",
   "metadata": {},
   "outputs": [],
   "source": [
    "#exemple nord-ouest Afrique = 40,8,-23,15\n",
    "coord_nord = 40\n",
    "coord_sud = 8\n",
    "coord_ouest = -23\n",
    "coord_est = 15\n"
   ]
  },
  {
   "cell_type": "code",
   "execution_count": null,
   "id": "eed5dbfa-9cc7-48be-ba0c-40f9ef3b19a5",
   "metadata": {},
   "outputs": [],
   "source": [
    "# Facteur de mise à l'échelle\n",
    "scale_factor = 0.04  # 0.04 par défaut"
   ]
  },
  {
   "cell_type": "code",
   "execution_count": null,
   "id": "d46f18ab-0b8c-4a9f-9976-6b0ea6e7a85f",
   "metadata": {},
   "outputs": [],
   "source": [
    "# Construire la commande gdalwarp pour la découpe\n",
    "cmd3 = [\n",
    "    'gdalwarp',\n",
    "    '-t_srs', 'EPSG:4326',     # Option pour spécifier la projection\n",
    "    '-te', str(coord_ouest), str(coord_est), str(coord_sud), str(coord_nord),  # Option pour spécifier l'étendue\n",
    "     '-tr', str(scale_factor), str(scale_factor),  # Facteur de mise à l'échelle en x et y\n",
    "    '-overwrite',              # Option pour écraser le fichier de sortie s'il existe\n",
    "    filename,\n",
    "    filename_image_zoom_out + '.tif'\n",
    "]"
   ]
  },
  {
   "cell_type": "code",
   "execution_count": null,
   "id": "776ff761-eae9-4e43-a7db-6e4fda9c4335",
   "metadata": {},
   "outputs": [],
   "source": [
    "subprocess.run(cmd3)"
   ]
  },
  {
   "cell_type": "code",
   "execution_count": null,
   "id": "a18fcc30-32cc-457e-88bd-fb158438fe32",
   "metadata": {},
   "outputs": [],
   "source": [
    "#im2 = Image.open(filename_image_zoom_out + '.tif')\n",
    "#display(im2)"
   ]
  },
  {
   "cell_type": "code",
   "execution_count": null,
   "id": "7fc47b52-f96f-4d90-8985-3d72dda3248d",
   "metadata": {},
   "outputs": [],
   "source": []
  },
  {
   "cell_type": "code",
   "execution_count": null,
   "id": "3a834491-fbbf-48c9-ad5e-2cbfc9e8ff01",
   "metadata": {},
   "outputs": [],
   "source": [
    "#sauvegarde du tif d'origine (gdal_rasterize écrase)\n",
    "!cp {filename_image_zoom_out + \".tif\"} {filename_image_zoom_out + \"_contour.tif\"}"
   ]
  },
  {
   "cell_type": "markdown",
   "id": "d115ff63-f066-440a-9188-7ffb77371308",
   "metadata": {},
   "source": [
    "#### Ajout des frontières"
   ]
  },
  {
   "cell_type": "code",
   "execution_count": null,
   "id": "6cda5574-9ef2-4744-b064-00cacd515080",
   "metadata": {},
   "outputs": [],
   "source": [
    "# Définir la commande gdal_rasterize\n",
    "cmd4 = [\n",
    "    'gdal_rasterize',\n",
    "    '-b', '1' ,\n",
    "    '-burn', '255',  # Valeur de brûlure\n",
    "    '-b', '2' ,\n",
    "    '-burn', '255',  # Valeur de brûlure\n",
    "    '-b', '3' ,\n",
    "    '-burn', '255',  # Valeur de brûlure\n",
    "    '-l', 'world-administrative-boundaries',  # Nom de la couche\n",
    "    input_shapefile,  # Chemin vers le shapefile\n",
    "    filename_image_zoom_out + \"_contour.tif\"  # Chemin vers l'image raster de sortie\n",
    "]"
   ]
  },
  {
   "cell_type": "code",
   "execution_count": null,
   "id": "0941fb7e-00cd-4be4-997e-1e1e716c352d",
   "metadata": {},
   "outputs": [],
   "source": [
    "subprocess.run(cmd4)"
   ]
  },
  {
   "cell_type": "code",
   "execution_count": null,
   "id": "d32828e8-281f-4fc1-b537-7eebd8d078b8",
   "metadata": {},
   "outputs": [],
   "source": [
    "im2 = Image.open(filename_image_zoom_out + '_contour.tif')\n",
    "display(im2)"
   ]
  },
  {
   "cell_type": "markdown",
   "id": "8612042c-58a1-4f25-86fc-65e30062b2c7",
   "metadata": {},
   "source": [
    "### Reprojection de l'image"
   ]
  },
  {
   "cell_type": "markdown",
   "id": "b25a3920-6667-4af5-ba9b-8334092bf88a",
   "metadata": {},
   "source": [
    "#### Définition de la reprojection de l'image à reprojeter"
   ]
  },
  {
   "cell_type": "code",
   "execution_count": null,
   "id": "9a0ac1a7-0671-416f-9608-f1e69145729d",
   "metadata": {},
   "outputs": [],
   "source": [
    "#Modification des coordonnées\n",
    "\n",
    "#projection = \"+proj=ortho +lat_0=0 +lon_0=0\"\n",
    "projection = \"+proj=ortho +lat_0=45 +lon_0=5\""
   ]
  },
  {
   "cell_type": "code",
   "execution_count": null,
   "id": "619e4ed4-44e3-4dbb-932e-2131044d9db3",
   "metadata": {},
   "outputs": [],
   "source": [
    "filename_image_reproj_zoom_out = (output + '/RGB_' + composite_name + 'ortho_zoom_min' )"
   ]
  },
  {
   "cell_type": "code",
   "execution_count": null,
   "id": "23cc8c52-7192-40ee-840c-e76f07c2b11d",
   "metadata": {},
   "outputs": [],
   "source": [
    "filename_image_reproj_zoom_out"
   ]
  },
  {
   "cell_type": "code",
   "execution_count": null,
   "id": "72b13d38-715e-4387-9d6e-2b757832c1e0",
   "metadata": {},
   "outputs": [],
   "source": [
    "# Construire la commande gdalwarp\n",
    "cmd5 = [\n",
    "    'gdalwarp',\n",
    "    '-t_srs', projection,  # Système de référence cible\n",
    "    '-overwrite',              # Option pour écraser le fichier de sortie s'il existe\n",
    "    filename_image_zoom_out + '_contour.tif',\n",
    "    filename_image_reproj_zoom_out + '.tif'\n",
    "]"
   ]
  },
  {
   "cell_type": "code",
   "execution_count": null,
   "id": "c6757fed-2cca-4877-b057-4a1f95f5744b",
   "metadata": {},
   "outputs": [],
   "source": [
    "subprocess.run(cmd5)"
   ]
  },
  {
   "cell_type": "code",
   "execution_count": null,
   "id": "e720aba0-20a7-493c-9ebe-bcbab743e50a",
   "metadata": {},
   "outputs": [],
   "source": [
    "im3 = Image.open(filename_image_reproj_zoom_out + '.tif')\n",
    "display(im3)"
   ]
  },
  {
   "cell_type": "markdown",
   "id": "5e153a58-a4a1-44a9-8d7d-a594251f0cc3",
   "metadata": {},
   "source": [
    "### Nettoyage"
   ]
  },
  {
   "cell_type": "code",
   "execution_count": null,
   "id": "64c9f57f-fbd5-4710-b9a9-64be87ba02a8",
   "metadata": {},
   "outputs": [],
   "source": [
    "!rm {output}/*xml {output}/RGB_sortie.tif"
   ]
  },
  {
   "cell_type": "code",
   "execution_count": null,
   "id": "af2ed14e-9d22-414b-958f-9ca728938336",
   "metadata": {},
   "outputs": [],
   "source": []
  }
 ],
 "metadata": {
  "kernelspec": {
   "display_name": "Python [conda env:.conda-env_MF]",
   "language": "python",
   "name": "conda-env-.conda-env_MF-py"
  },
  "language_info": {
   "codemirror_mode": {
    "name": "ipython",
    "version": 3
   },
   "file_extension": ".py",
   "mimetype": "text/x-python",
   "name": "python",
   "nbconvert_exporter": "python",
   "pygments_lexer": "ipython3",
   "version": "3.12.4"
  }
 },
 "nbformat": 4,
 "nbformat_minor": 5
}
