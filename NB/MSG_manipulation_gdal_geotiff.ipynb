{
 "cells": [
  {
   "cell_type": "markdown",
   "id": "f82f6bcb-1212-44d2-9996-2f691275e221",
   "metadata": {},
   "source": [
    "<img src='../OUTILS/bandeau_MF.png' align='right' width='100%'/>"
   ]
  },
  {
   "cell_type": "markdown",
   "id": "4b6c1d85-a323-40e8-a491-c77e3b8db2e8",
   "metadata": {
    "tags": []
   },
   "source": [
    "<div class=\"alert alert-info alert-success\">\n",
    "<h3>Manipulation des données d'imagerie avec la librairie gdal </h3></div>\n",
    "\n",
    "## <a id='TOC-TOP'></a>Contenus"
   ]
  },
  {
   "cell_type": "markdown",
   "id": "ee27f1b4-6db1-4579-b9b6-8fa05d62d252",
   "metadata": {},
   "source": [
    "Tout d'abord, il faut procéder à l'importation des librairies nécessaires à ce TP."
   ]
  },
  {
   "cell_type": "code",
   "execution_count": null,
   "id": "061b99ca-8518-4d1d-8290-3693df7efe7a",
   "metadata": {
    "tags": []
   },
   "outputs": [],
   "source": [
    "from PIL import Image\n",
    "from IPython.display import display\n",
    "import matplotlib as mpl\n",
    "import matplotlib.pyplot as plt\n",
    "import numpy as np\n",
    "import scipy\n",
    "import os\n",
    "os.environ['PATH'] = f\"/opt/conda/envs/casablanca/bin:{os.environ['PATH']}\""
   ]
  },
  {
   "cell_type": "markdown",
   "id": "eb6f0183-060f-4a77-af42-cb5c1eece874",
   "metadata": {},
   "source": [
    "Ce TP utilise en grande partie les logiciels de la librairie **\"gdal\"** qui signifie : *geospatial data abstraction library*. Cette librairie est extrèmement utile pour manipuler les données issues des satellites météorologiques.\n",
    "\n",
    "Pour ce TP nous allons utiliser un fichier au format **NetCDF** issue du data store d'Eumetsat.\n",
    "Ces fichiers NetCDF sont proposés selon la nomenclature suivante :\n",
    "W_XX-EUMETSAT-Darmstadt,VIS+IR+HRV+IMAGERY_MSG4+SEVIRI_C_EUMG_**AAAAMMJJHHMMSS**.nc\n",
    "\n",
    "Le fichier que nous allons manipuler est le suivant :\n",
    "\n",
    "**`W_XX-EUMETSAT-Darmstadt,VIS+IR+HRV+IMAGERY_MSG4+SEVIRI_C_EUMG_20220905120011.nc`**\n",
    "\n",
    "Il se trouve dans ce répertoire :\n",
    "**`../../MF_DATA/MSG`**"
   ]
  },
  {
   "cell_type": "markdown",
   "id": "88f5f7cb-f0dd-4d19-a6a5-82464696ff28",
   "metadata": {},
   "source": [
    "La commande gdalinfo permet d'afficher les informations qui se trouvent dans le fichier NetCDF.\n",
    "\n",
    "usage : `gdalinfo mon_fichier`\n",
    "\n",
    "Pour lancer les commandes gdal dans ce jupyter notebook il faut les précéder d'un point d'exclamation :\n",
    "\n",
    "`!gdalinfo`"
   ]
  },
  {
   "cell_type": "code",
   "execution_count": null,
   "id": "ddcdf778-cd28-4125-bf15-5ee13216eab7",
   "metadata": {},
   "outputs": [],
   "source": [
    "!gdalinfo"
   ]
  },
  {
   "cell_type": "markdown",
   "id": "2759c31c-252c-472e-82a3-83b1e476bb6b",
   "metadata": {},
   "source": [
    "Maintenant, faites un gdalinfo du fichier NetCDF."
   ]
  },
  {
   "cell_type": "code",
   "execution_count": null,
   "id": "a1b5b93d-147e-4415-bd35-22813a42b64c",
   "metadata": {
    "jupyter": {
     "outputs_hidden": true
    },
    "tags": []
   },
   "outputs": [],
   "source": [
    "!gdalinfo ../../MF_DATA/MSG/W_XX-EUMETSAT-Darmstadt,VIS+IR+HRV+IMAGERY_MSG4+SEVIRI_C_EUMG_20220905120011.nc"
   ]
  },
  {
   "cell_type": "markdown",
   "id": "2e908d8f-878d-45ec-a840-de9712061a17",
   "metadata": {},
   "source": [
    "Il y a énormément d'informations proposées. Mais nous n'allons pas toutes les exploiter.\n",
    "Nous utiliserons uniquement les informations des subdataset compris entre 37 et 47.\n",
    "\n",
    "Si on voit un NetCDF comme une armoire, un subdatset est un tiroir de cette armoire."
   ]
  },
  {
   "cell_type": "markdown",
   "id": "de5a5191-c309-47dc-8a3c-1a706421ab7e",
   "metadata": {},
   "source": [
    "Pour se simplifier la tâche, nous allons définir le chemin d'accès aux données dans une variable."
   ]
  },
  {
   "cell_type": "code",
   "execution_count": null,
   "id": "d23e058b-e939-431e-90f7-9508a841db2e",
   "metadata": {
    "tags": []
   },
   "outputs": [],
   "source": [
    "input = '../../MF_DATA/MSG/W_XX-EUMETSAT-Darmstadt,VIS+IR+HRV+IMAGERY_MSG4+SEVIRI_C_EUMG_20220905120011.nc'"
   ]
  },
  {
   "cell_type": "markdown",
   "id": "460332ff-0afd-418c-ac9e-3c3c39e9a1fc",
   "metadata": {},
   "source": [
    "On peut vérifier à quoi correspond notre variable."
   ]
  },
  {
   "cell_type": "code",
   "execution_count": null,
   "id": "5f801ea0-668a-4949-ba60-114794a9310c",
   "metadata": {
    "jupyter": {
     "outputs_hidden": true
    }
   },
   "outputs": [],
   "source": [
    "input\n",
    "\n",
    "!gdalinfo $input"
   ]
  },
  {
   "cell_type": "markdown",
   "id": "bde9d858-d157-4be7-b2a3-d670f88dbc9f",
   "metadata": {},
   "source": [
    "La commande suivante permet d'afficher le contenu du subdataset d'un fichier NetCDF :\n",
    "    \n",
    "!gdalinfo NETCDF:\"$input\":**nom_du_subdataset**"
   ]
  },
  {
   "cell_type": "markdown",
   "id": "5120371f-c291-4059-b73d-625408d05d98",
   "metadata": {},
   "source": [
    "***Exercice 1 : afficher les informations du canal IR 10,8 microns.***"
   ]
  },
  {
   "cell_type": "markdown",
   "id": "3f970219-f25a-4162-abe6-bc568082e6f8",
   "metadata": {},
   "source": [
    "Il est possible de rajouter des options à la commande gdalinfo.\n",
    "\n",
    "l'option -mm permet d'afficher les valeurs mini et maxi des données que l'on consulte."
   ]
  },
  {
   "cell_type": "markdown",
   "id": "9bd1372a-f981-464f-ab2b-65180e2012c7",
   "metadata": {},
   "source": [
    "Questions : quels sont les valeurs mini et maxi du canal 10,8 microns et du canal 0,8 microns ?"
   ]
  },
  {
   "cell_type": "markdown",
   "id": "2531800f-8671-43ab-944f-77fffd6f33ce",
   "metadata": {},
   "source": [
    "Définissons la variable du dossier où seront stockés les résultats."
   ]
  },
  {
   "cell_type": "code",
   "execution_count": null,
   "id": "82e0f6b9-7b8c-4a1e-9f69-8c20d8342b41",
   "metadata": {},
   "outputs": [],
   "source": [
    "download_dir = os.path.join(os.getcwd(), \"../RESULTATS\")\n",
    "os.makedirs(download_dir, exist_ok=True)"
   ]
  },
  {
   "cell_type": "code",
   "execution_count": null,
   "id": "ca343888-c931-45ff-a7ef-cfa33afac055",
   "metadata": {},
   "outputs": [],
   "source": [
    "output = '../RESULTATS'"
   ]
  },
  {
   "cell_type": "markdown",
   "id": "dc5fdfaf-f7a4-46ab-b26a-0b9dab2b499e",
   "metadata": {},
   "source": [
    "La commande suivante permet de générer un image à partir des données qui sont stockées dans le NetCDF :"
   ]
  },
  {
   "cell_type": "markdown",
   "id": "1f07cba2-bc28-40a7-a18a-5d3c0284d120",
   "metadata": {},
   "source": [
    "Indiquer le nom du subdataset"
   ]
  },
  {
   "cell_type": "code",
   "execution_count": null,
   "id": "d544e763-68d8-4b5c-9ad0-d1e942717e91",
   "metadata": {},
   "outputs": [],
   "source": [
    "nom_du_subdataset = ''"
   ]
  },
  {
   "cell_type": "code",
   "execution_count": null,
   "id": "dcf43da2-1e14-4d0a-83b4-b8ad22cacc71",
   "metadata": {},
   "outputs": [],
   "source": [
    "!gdal_translate -ot byte -scale 0 1023 0 255 NETCDF:\"$input\":{nom_du_subdataset} {output}/20220905_1200_IR108_0-1024.tif"
   ]
  },
  {
   "cell_type": "markdown",
   "id": "401ce4c6-9a62-4691-b32c-9c8180d97da0",
   "metadata": {},
   "source": [
    "Nous allons redimensionner l'image à l'aide la commande suivante :"
   ]
  },
  {
   "cell_type": "code",
   "execution_count": null,
   "id": "8bbcae58-3fc3-4ad1-a4f3-3240b9fef7b8",
   "metadata": {},
   "outputs": [],
   "source": [
    "im = Image.open(output + '/20220905_1200_IR108_0-1024.tif', 'r')\n",
    "image_redim = im.resize((800,800), resample=0)\n",
    "image_redim.save(output + '/20220905_1200_IR108_0-1024_redim.tif')"
   ]
  },
  {
   "cell_type": "markdown",
   "id": "122a0f59-b786-4fc2-b4fd-c6848b891f5a",
   "metadata": {},
   "source": [
    "Il est alors possible de visualiser l'image à l'aide la commande suivante :"
   ]
  },
  {
   "cell_type": "code",
   "execution_count": null,
   "id": "07f03c03-7099-44cb-9753-7979b393c552",
   "metadata": {
    "tags": []
   },
   "outputs": [],
   "source": [
    "im = Image.open(output + '/20220905_1200_IR108_0-1024_redim.tif', 'r')\n",
    "display(im)"
   ]
  },
  {
   "cell_type": "markdown",
   "id": "c4c65d8b-a172-4ff7-ab86-a6d1c61eaaf4",
   "metadata": {},
   "source": [
    "L'image manque de contraste."
   ]
  },
  {
   "cell_type": "code",
   "execution_count": null,
   "id": "c47f0f5e-a10e-4b76-b946-f49b2f01a716",
   "metadata": {
    "tags": []
   },
   "outputs": [],
   "source": [
    "!gdal_translate -ot byte -scale 0 871 0 255 NETCDF:\"$input\":{nom_du_subdataset} {output}/20220905_1200_IR108_min-max.tif"
   ]
  },
  {
   "cell_type": "code",
   "execution_count": null,
   "id": "90337049-90d0-4a2c-b2a4-4cc8feec286c",
   "metadata": {
    "tags": []
   },
   "outputs": [],
   "source": [
    "im = Image.open(output + '/20220905_1200_IR108_min-max.tif', 'r')\n",
    "image_redim = im.resize((800,800), resample=0)\n",
    "image_redim.save(output + '/20220905_1200_IR108_min-max_redim.tif')\n",
    "im = Image.open(output + '/20220905_1200_IR108_min-max_redim.tif', 'r')\n",
    "display(im)"
   ]
  },
  {
   "cell_type": "markdown",
   "id": "a3950476-6617-4868-8555-d07768f8b05f",
   "metadata": {},
   "source": [
    "La commande suivante permet de faire une RGB :\n",
    "\n",
    "`!gdal_merge.py -separate band1.tif band2.tif band3.tif -o resultat.tif`"
   ]
  },
  {
   "cell_type": "markdown",
   "id": "670644aa-062a-424f-ac00-53f5fdf66928",
   "metadata": {},
   "source": [
    "***Exercice 2 : faire une RGB natural color***"
   ]
  },
  {
   "cell_type": "markdown",
   "id": "328536f8-43a0-4b1d-bd3b-78d54bd75927",
   "metadata": {},
   "source": [
    "Faire l'exercice dans cette cellule"
   ]
  },
  {
   "cell_type": "markdown",
   "id": "f1c74d95-754c-48a2-9387-461c41383360",
   "metadata": {},
   "source": [
    "Effectuons un gdalinfo d'une image créée avec gdal_translate :"
   ]
  },
  {
   "cell_type": "code",
   "execution_count": null,
   "id": "98bf3100-92a1-4c68-a55a-9bd347165b2e",
   "metadata": {
    "jupyter": {
     "outputs_hidden": true
    },
    "tags": []
   },
   "outputs": [],
   "source": [
    "!gdalinfo $output/20220905_1200_IR108_min-max.tif"
   ]
  },
  {
   "cell_type": "markdown",
   "id": "62e2aa84-08e1-4fea-b3c6-92678789734a",
   "metadata": {},
   "source": [
    "L'image n'est pas géoréférencée. L'étape suivante va consister à géoréférencer l'image.\n",
    "Chargeons les variables de géoréférencement du satellite MSG :"
   ]
  },
  {
   "cell_type": "code",
   "execution_count": null,
   "id": "84f65599-88f1-445d-884a-f9954058e807",
   "metadata": {
    "tags": []
   },
   "outputs": [],
   "source": [
    "longitude=0\n",
    "major_axis=6378169\n",
    "minor_axis=6356583.8\n",
    "hauteur=35785831\n",
    "ulx=-5570248.832537\n",
    "uly=5570248.832537\n",
    "lrx=5567248.429179\n",
    "lry=-5567248.429179"
   ]
  },
  {
   "cell_type": "code",
   "execution_count": null,
   "id": "a2f6ee75-1b86-4722-8288-d573268a458d",
   "metadata": {
    "jupyter": {
     "source_hidden": true
    },
    "tags": []
   },
   "outputs": [],
   "source": [
    "!gdal_translate -a_srs \"+proj=geos +a=$major_axis +b=$minor_axis +lon_0=$longitude +h=$hauteur +x_0=0 +y_0=0 +pm=$longitude\" -a_ullr $ulx $uly $lrx $lry $output/20220905_1200_IR108_min-max.tif $output/20220905_1200_IR108_min-max_georef.tif "
   ]
  },
  {
   "cell_type": "markdown",
   "id": "171863d7-cc9e-4afb-8b9e-7fb5c7f282ef",
   "metadata": {},
   "source": [
    "Un nouveau gdalinfo donne un résultat différent"
   ]
  },
  {
   "cell_type": "code",
   "execution_count": null,
   "id": "1b5db858-af03-4c9a-8614-f771710b7f39",
   "metadata": {
    "jupyter": {
     "outputs_hidden": true
    },
    "tags": []
   },
   "outputs": [],
   "source": [
    "!gdalinfo $output/20220905_1200_IR108_min-max_georef.tif"
   ]
  },
  {
   "cell_type": "markdown",
   "id": "003e62cd-7ccd-4125-83af-f808b08b7588",
   "metadata": {},
   "source": [
    "Redimensionnons l'image"
   ]
  },
  {
   "cell_type": "code",
   "execution_count": null,
   "id": "ed17b678-67dd-4651-8fd1-9a57eacc1110",
   "metadata": {},
   "outputs": [],
   "source": [
    "im = Image.open(output + '/20220905_1200_IR108_min-max_georef.tif', 'r')\n",
    "image_redim = im.resize((800,800), resample=0)\n",
    "image_redim.save(output + '/20220905_1200_IR108_redim.tif')"
   ]
  },
  {
   "cell_type": "code",
   "execution_count": null,
   "id": "d79ff84e-4803-4e45-9c63-68e33e0c3425",
   "metadata": {},
   "outputs": [],
   "source": [
    "!gdalinfo $output/20220905_1200_IR108_redim.tif"
   ]
  },
  {
   "cell_type": "markdown",
   "id": "ee536fe5-b548-4395-ad39-bf04618b216b",
   "metadata": {},
   "source": [
    "Le géoréférencement a été perdu !!"
   ]
  },
  {
   "cell_type": "markdown",
   "id": "efb9a3d6-b219-4193-81d5-a1630a8fdae9",
   "metadata": {},
   "source": [
    "Pour le conserver, nous pouvons redimensionner l'image à l'aide la commande gdalwarp :"
   ]
  },
  {
   "cell_type": "code",
   "execution_count": null,
   "id": "91b882ea-d74c-470e-b2ac-e24b2c294716",
   "metadata": {},
   "outputs": [],
   "source": [
    "!gdalwarp -ts 800 800 $output/20220905_1200_IR108_min-max_georef.tif $output/20220905_1200_IR108_min-max_georef_redim.tif"
   ]
  },
  {
   "cell_type": "code",
   "execution_count": null,
   "id": "55727e70-a06a-4ded-a640-c7b659dd8694",
   "metadata": {
    "jupyter": {
     "outputs_hidden": true
    }
   },
   "outputs": [],
   "source": [
    "!gdalinfo $output/20220905_1200_IR108_min-max_georef_redim.tif"
   ]
  },
  {
   "cell_type": "markdown",
   "id": "95c93ed9-74d5-48df-a456-21a30a86a779",
   "metadata": {},
   "source": [
    "Le géoréférencement est conservé."
   ]
  },
  {
   "cell_type": "markdown",
   "id": "e09340a1-2c93-49f5-9253-4b601c7e21fa",
   "metadata": {},
   "source": [
    "On peut afficher l'image :"
   ]
  },
  {
   "cell_type": "code",
   "execution_count": null,
   "id": "d7407eff-8796-45c3-ab35-016130c112a6",
   "metadata": {},
   "outputs": [],
   "source": [
    "im = Image.open(output + '/20220905_1200_IR108_min-max_georef_redim.tif', 'r')\n",
    "display(im)"
   ]
  },
  {
   "cell_type": "markdown",
   "id": "202e5143-bf19-4710-ab0c-537f423d4b2d",
   "metadata": {},
   "source": [
    "Reprojection d'une image :"
   ]
  },
  {
   "cell_type": "code",
   "execution_count": null,
   "id": "6564d553-1881-45aa-9ece-91726361e749",
   "metadata": {
    "tags": []
   },
   "outputs": [],
   "source": [
    "!gdalwarp -t_srs EPSG:4326 $output/20220905_1200_IR108_min-max_georef.tif $output/20220905_1200_IR108_min-max_georef_4326.tif"
   ]
  },
  {
   "cell_type": "markdown",
   "id": "57e2d28d-48cf-43ab-8f29-db71a9de9ad0",
   "metadata": {},
   "source": [
    "Consultons le géoréférencement :"
   ]
  },
  {
   "cell_type": "code",
   "execution_count": null,
   "id": "86ce36b2-4812-4b23-a5d5-ed47b3e59250",
   "metadata": {
    "jupyter": {
     "outputs_hidden": true
    },
    "tags": []
   },
   "outputs": [],
   "source": [
    "!gdalinfo $output/20220905_1200_IR108_min-max_georef_4326.tif"
   ]
  },
  {
   "cell_type": "markdown",
   "id": "03928015-e058-4331-bfad-de8d1da165ea",
   "metadata": {},
   "source": [
    "Affichons l'image."
   ]
  },
  {
   "cell_type": "code",
   "execution_count": null,
   "id": "ff7c7b9a-bf6a-482f-b434-7c8f91237bf8",
   "metadata": {},
   "outputs": [],
   "source": [
    "im = Image.open(output + '/20220905_1200_IR108_min-max_georef_4326.tif', 'r')\n",
    "display(im)"
   ]
  },
  {
   "cell_type": "markdown",
   "id": "0c92f2c4-bda0-49c0-b432-5541146df98a",
   "metadata": {},
   "source": [
    "Redimensionnons l'image."
   ]
  },
  {
   "cell_type": "code",
   "execution_count": null,
   "id": "95860467-3c48-4251-8e29-3cb3c9cc1ee0",
   "metadata": {},
   "outputs": [],
   "source": [
    "!gdalwarp -ts 800 800 $output/20220905_1200_IR108_min-max_georef_4326.tif $output/20220905_1200_IR108_min-max_georef_4326_redim_ts.tif"
   ]
  },
  {
   "cell_type": "markdown",
   "id": "83abdf92-479d-43a7-be10-0bac53bfc3df",
   "metadata": {},
   "source": [
    "Que s'est-t-il passé ?"
   ]
  },
  {
   "cell_type": "code",
   "execution_count": null,
   "id": "c4cd9247-dd19-42ce-99ad-4fdb2043e2b6",
   "metadata": {},
   "outputs": [],
   "source": [
    "im = Image.open(output + '/20220905_1200_IR108_min-max_georef_4326_redim_ts.tif', 'r')\n",
    "display(im)"
   ]
  },
  {
   "cell_type": "markdown",
   "id": "267eec83-25b0-43d3-851e-06fce84f8ae4",
   "metadata": {},
   "source": [
    "Il faut utiliser une autre méthode."
   ]
  },
  {
   "cell_type": "code",
   "execution_count": null,
   "id": "39fa6efc-93e3-48f7-98dd-9a74060eb7ff",
   "metadata": {},
   "outputs": [],
   "source": [
    "!gdalwarp -tr 0.1 -0.1 $output/20220905_1200_IR108_min-max_georef_4326.tif $output/20220905_1200_IR108_min-max_georef_4326_redim_tr.tif"
   ]
  },
  {
   "cell_type": "code",
   "execution_count": null,
   "id": "28c94d29-84d9-45ec-8791-ded09e2e5e4f",
   "metadata": {},
   "outputs": [],
   "source": [
    "im = Image.open(output + '/20220905_1200_IR108_min-max_georef_4326_redim_tr.tif', 'r')\n",
    "display(im)"
   ]
  },
  {
   "cell_type": "markdown",
   "id": "15b3a221-caf3-437a-b92c-a886e73d4eb2",
   "metadata": {},
   "source": [
    "gdalwarp permet de reprojeter, mais permet aussi de découper une image.\n",
    "Il faut utiliser la commande :\n",
    "    \n",
    "`!gdalwarp -te xmin ymin xmax ymax in.tif out.tif`"
   ]
  },
  {
   "cell_type": "markdown",
   "id": "58dec3c1-1605-4dcd-9fb2-98f38964c5cb",
   "metadata": {},
   "source": [
    "***Exercice 3 : Découper une zone qui correspond à votre pays***"
   ]
  },
  {
   "cell_type": "code",
   "execution_count": null,
   "id": "83f2fc29-4310-4c46-9d3f-eab9726375e7",
   "metadata": {},
   "outputs": [],
   "source": [
    "# Exemple France\n",
    "!gdalwarp -te -14 38 18 56 -ts 1920 1080 -overwrite $output/20220905_1200_IR108_min-max_georef_4326.tif $output/20220905_1200_France.tif"
   ]
  },
  {
   "cell_type": "code",
   "execution_count": null,
   "id": "44120595-5736-4aed-b55e-9ce69970fd1a",
   "metadata": {},
   "outputs": [],
   "source": [
    "im = Image.open(output + '/20220905_1200_France.tif', 'r')\n",
    "display(im)"
   ]
  },
  {
   "cell_type": "markdown",
   "id": "427e3b4e-151b-4089-8be5-0642181eda18",
   "metadata": {},
   "source": [
    "***Exercice 4 : Découper une zone au format 16X9 qui correspond à votre pays***"
   ]
  },
  {
   "cell_type": "code",
   "execution_count": null,
   "id": "704948fa-64f9-497f-90df-3dc925e32f07",
   "metadata": {},
   "outputs": [],
   "source": []
  },
  {
   "cell_type": "markdown",
   "id": "7a4d818c-74f6-4c9f-a722-fd4ccc783821",
   "metadata": {},
   "source": [
    "Cette commande permet de rajouter un shapefile sur une image.\n",
    "Exemple : rajout d'un contour de cote"
   ]
  },
  {
   "cell_type": "code",
   "execution_count": null,
   "id": "d28c487f-293f-4ad0-81ce-d7a4259a2d76",
   "metadata": {
    "tags": []
   },
   "outputs": [],
   "source": [
    "metadonnees = '../OUTILS/'"
   ]
  },
  {
   "cell_type": "code",
   "execution_count": null,
   "id": "bccc4147-6512-4b08-97fd-62c4817b0f0d",
   "metadata": {
    "tags": []
   },
   "outputs": [],
   "source": [
    "!gdal_rasterize -b 1 -burn 255 -l world-administrative-boundaries $metadonnees/boundary/world-administrative-boundaries.shp $output/20220905_1200_France.tif"
   ]
  },
  {
   "cell_type": "markdown",
   "id": "c8a18f81-2c0a-4c8f-9f6c-ac27da1fff92",
   "metadata": {},
   "source": [
    "On peut aussi rajouter les graticules."
   ]
  },
  {
   "cell_type": "code",
   "execution_count": null,
   "id": "edef5126-37af-479a-898b-df9581066574",
   "metadata": {},
   "outputs": [],
   "source": [
    "!gdal_rasterize -b 1 -burn 255 -l 10m-graticules-5 $metadonnees/graticules/10m-graticules-5.shp $output/20220905_1200_France.tif\n",
    "im = Image.open(output + '/20220905_1200_France.tif', 'r')\n",
    "display(im)"
   ]
  },
  {
   "cell_type": "markdown",
   "id": "be88dfe2-49de-4b5e-b390-e65c9950cc70",
   "metadata": {},
   "source": [
    "**Attention !!!**\n",
    "\n",
    "La commande gdal_rasterize écrase l'image qui est donnée en entrée."
   ]
  },
  {
   "cell_type": "markdown",
   "id": "c94e1071-982d-4a63-91fb-07f258cdb45c",
   "metadata": {},
   "source": [
    "Visualisation de l'image :\n",
    "`im = Image.open(output + '/20220905_1200_France.tif', 'r')\n",
    "display(im)`"
   ]
  },
  {
   "cell_type": "markdown",
   "id": "a50172a5-d43b-4d65-9182-178b660f7fe3",
   "metadata": {},
   "source": [
    "La commande suivante va permettre de seuiller les données.\n",
    "\n",
    "`!gdal_translate -scale Inputmin Inputmax Outputmin Outputmax in.tif image_transparente.tif`"
   ]
  },
  {
   "cell_type": "markdown",
   "id": "13c3c2a6-754a-4698-9785-345c9fcf704a",
   "metadata": {},
   "source": [
    "***Exercice 5 : Trouver un seuillage qui ne fasse apparaitre que les nuages***"
   ]
  },
  {
   "cell_type": "markdown",
   "id": "caf750af-ef39-4aef-85bc-4b5767a8ab68",
   "metadata": {},
   "source": [
    "Faire l'exercice dans cette cellule"
   ]
  },
  {
   "cell_type": "markdown",
   "id": "d8268d0f-3f07-4b8a-b5d6-6d5410a5c0c6",
   "metadata": {},
   "source": [
    "Ensuite il est possible de mettre en transparent les zones qui sont noires :\n",
    "    \n",
    "`!gdalwarp -srcnodata '0' -dstalpha -dstnodata '0,0' in.tif image_transparente.tif`"
   ]
  },
  {
   "cell_type": "code",
   "execution_count": null,
   "id": "d7534de4-a2cb-4992-83c9-9b7ee5246973",
   "metadata": {},
   "outputs": [],
   "source": []
  },
  {
   "cell_type": "code",
   "execution_count": null,
   "id": "b9af0f54-1db8-48ce-8394-f5acf949ee02",
   "metadata": {},
   "outputs": [],
   "source": [
    "!gdalwarp -srcnodata '0' -dstalpha -dstnodata '0,0' $output/20220905_1200_France_seuil.tif $output/20220905_1200_France_transp.tif\n"
   ]
  },
  {
   "cell_type": "code",
   "execution_count": null,
   "id": "d4ee2ee9-262f-4893-a350-194488ce61da",
   "metadata": {},
   "outputs": [],
   "source": [
    "im = Image.open(output + '/20220905_1200_France_transp.tif', 'r')\n",
    "display(im)"
   ]
  },
  {
   "cell_type": "markdown",
   "id": "11b93895-e821-4ffa-8e39-c6f5fea7ee9b",
   "metadata": {},
   "source": [
    "Découpage d'un fond de carte sur son pays :\n",
    "Exemple pour la France :"
   ]
  },
  {
   "cell_type": "code",
   "execution_count": null,
   "id": "1d6d61a9-47cf-4713-99c2-0e70448d7a3e",
   "metadata": {
    "tags": []
   },
   "outputs": [],
   "source": [
    "!gdalwarp -te -14 38 18 56 -ts 1920 1080 -overwrite ../../MF_DATA/world.200408.3x21600x10800.tif $output/Fond_france-petit.tif"
   ]
  },
  {
   "cell_type": "code",
   "execution_count": null,
   "id": "3ff90f28-8ed7-433e-9e5d-144260989659",
   "metadata": {},
   "outputs": [],
   "source": [
    "im = Image.open(output + '/Fond_france-petit.tif', 'r')\n",
    "display(im)"
   ]
  },
  {
   "cell_type": "markdown",
   "id": "508e2e47-d8f7-41c1-b799-f681eb61fcac",
   "metadata": {},
   "source": [
    "***Exercice 6 : découper un fond de carte qui correspond à la zone découpée précedemment***"
   ]
  },
  {
   "cell_type": "markdown",
   "id": "ea3e15d1-5fed-4032-a055-d0dfb23a3163",
   "metadata": {},
   "source": [
    "superposition des nuages au fond de carte :"
   ]
  },
  {
   "cell_type": "code",
   "execution_count": null,
   "id": "0e57910b-5869-4417-8639-1dba36854e99",
   "metadata": {
    "tags": []
   },
   "outputs": [],
   "source": [
    "img = Image.open(output + '/20220905_1200_France_transp.tif', 'r')\n",
    "fond = Image.open(output + '/Fond_france-petit.tif', 'r')\n",
    "fond.paste(img, (0,0), img)\n",
    "fond.save(output + '/20220905_1200_France_fond.tif',\"TIFF\")\n",
    "im = Image.open(output + '/20220905_1200_France_fond.tif', 'r')\n",
    "display(im)"
   ]
  },
  {
   "cell_type": "markdown",
   "id": "b659b7c5-1683-4885-8457-e994cc4c2c9a",
   "metadata": {},
   "source": [
    "Ajout d'un logo sur l'image."
   ]
  },
  {
   "cell_type": "code",
   "execution_count": null,
   "id": "d3a30eaa-6f43-4b51-ab3f-8699eb554b97",
   "metadata": {},
   "outputs": [],
   "source": [
    "logo1 = Image.open(metadonnees + '/Republique_Francaise_RVB.png')\n",
    "petit_logo1 = logo1.resize((135,123), resample=0)\n",
    "petit_logo1.save(output + '/petit_logo1.png')"
   ]
  },
  {
   "cell_type": "code",
   "execution_count": null,
   "id": "8d635a4e-f7a7-48be-868f-f7ebf2e459e8",
   "metadata": {},
   "outputs": [],
   "source": [
    "logo2 = Image.open(metadonnees + '/logo_mf_zoom.png')\n",
    "petit_logo2 = logo2.resize((123,123), resample=0)\n",
    "petit_logo2.save(output + '/petit_logo2.png')"
   ]
  },
  {
   "cell_type": "code",
   "execution_count": null,
   "id": "8e76957e-cf49-4c9d-b323-cc18a773aea9",
   "metadata": {},
   "outputs": [],
   "source": [
    "img = Image.open(output + '/20220905_1200_France_fond.tif', 'r')\n",
    "petit_logo1 = Image.open(output + '/petit_logo1.png', 'r')\n",
    "petit_logo2 = Image.open(output + '/petit_logo2.png', 'r')\n",
    "img.paste(petit_logo1, (41,900))\n",
    "img.paste(petit_logo2, (1700,900))\n",
    "img.save(output + '/20220905_1200_France_fond_logo.tif')\n",
    "im = Image.open(output + '/20220905_1200_France_fond_logo.tif', 'r')\n",
    "display(im)\n"
   ]
  },
  {
   "cell_type": "markdown",
   "id": "6e00d182-b9e2-4507-9c83-ab6db257a693",
   "metadata": {},
   "source": [
    "***Exercice 7 : faire une image pour son pays avec le logo de son institution***"
   ]
  },
  {
   "cell_type": "markdown",
   "id": "eb4656ff-d92c-43c9-a1f1-e90fec0bb3a3",
   "metadata": {},
   "source": [
    "Faire l'exercice dans cette cellule"
   ]
  },
  {
   "cell_type": "code",
   "execution_count": null,
   "id": "12f12778-2912-4b9f-8067-2638c3edb103",
   "metadata": {},
   "outputs": [],
   "source": []
  },
  {
   "cell_type": "code",
   "execution_count": null,
   "id": "91dffef9-f3fb-4509-aa42-3ff92313f475",
   "metadata": {},
   "outputs": [],
   "source": []
  }
 ],
 "metadata": {
  "kernelspec": {
   "display_name": "Python [conda env:.conda-env_MF]",
   "language": "python",
   "name": "conda-env-.conda-env_MF-py"
  },
  "language_info": {
   "codemirror_mode": {
    "name": "ipython",
    "version": 3
   },
   "file_extension": ".py",
   "mimetype": "text/x-python",
   "name": "python",
   "nbconvert_exporter": "python",
   "pygments_lexer": "ipython3",
   "version": "3.12.4"
  }
 },
 "nbformat": 4,
 "nbformat_minor": 5
}
