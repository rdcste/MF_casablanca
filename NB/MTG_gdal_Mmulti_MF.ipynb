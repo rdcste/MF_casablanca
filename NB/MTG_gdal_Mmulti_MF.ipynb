{
 "cells": [
  {
   "cell_type": "markdown",
   "id": "d446db41-a89a-4e15-8ce8-48630ed288a6",
   "metadata": {},
   "source": [
    "<img src='../OUTILS/bandeau_MF.png' align='right' width='100%'/>"
   ]
  },
  {
   "cell_type": "markdown",
   "id": "a3719fcd-2554-4d3a-b83e-cc2ec2150faf",
   "metadata": {},
   "source": [
    "<div class=\"alert alert-info alert-success\">\n",
    "<h3>Elaboration de la RGB Dust - FCI /MTG </h3></div>\n",
    "\n",
    "## <a id='TOC-TOP'></a>Contenus"
   ]
  },
  {
   "cell_type": "markdown",
   "id": "e258f6be-f0a0-41e9-8a8b-407cbfdf6ac6",
   "metadata": {},
   "source": [
    "<div class=\"alert alert-block alert-warning\">\n",
    "    \n",
    "<b>PREREQUIS </b>\n",
    "    \n",
    "Ce Notebook ne nécessite pas de prérequis\n",
    "\n",
    "</div>\n",
    "<hr>"
   ]
  },
  {
   "cell_type": "markdown",
   "id": "aab587d9-b78e-404e-979f-49454b06f6e8",
   "metadata": {},
   "source": [
    "<div class=\"alert alert-info\" role=\"alert\">\n",
    "\n",
    "## <a id='section1'></a>1.Tout d'abord, il faut procéder à l'importation des librairies nécessaires.\n",
    "\n",
    "</div>"
   ]
  },
  {
   "cell_type": "code",
   "execution_count": null,
   "id": "6b07e118-3248-4a34-8a6f-f505574b3191",
   "metadata": {
    "tags": []
   },
   "outputs": [],
   "source": [
    "from PIL import Image\n",
    "from IPython.display import display\n",
    "import matplotlib as mpl\n",
    "import matplotlib.pyplot as plt\n",
    "import numpy as np\n",
    "import scipy\n",
    "import os\n",
    "#os.environ['PATH'] = f\"/opt/conda/envs/casablanca/bin:{os.environ['PATH']}\""
   ]
  },
  {
   "cell_type": "markdown",
   "id": "70b4b5bf-63af-4b37-9697-14fdb38f1fc0",
   "metadata": {},
   "source": [
    "### Données d'entrée et de sortie :"
   ]
  },
  {
   "cell_type": "code",
   "execution_count": null,
   "id": "a19af255-674c-41c1-93b5-e71882ddfa24",
   "metadata": {},
   "outputs": [],
   "source": [
    "download_dir = os.path.join(os.getcwd(), \"../RESULTATS\")\n",
    "os.makedirs(download_dir, exist_ok=True)"
   ]
  },
  {
   "cell_type": "code",
   "execution_count": null,
   "id": "78032105-b9b6-4b4e-b0d9-38dd98458957",
   "metadata": {},
   "outputs": [],
   "source": [
    "input = '../../MF_DATA/MTG/MTG_multic/Multic2km_mtgi1_20231122_140000.nc'\n",
    "output = '../RESULTATS/'"
   ]
  },
  {
   "cell_type": "code",
   "execution_count": null,
   "id": "37ae9cc5-4ee6-4548-92dc-16a28cab70bd",
   "metadata": {
    "jupyter": {
     "outputs_hidden": true
    },
    "tags": []
   },
   "outputs": [],
   "source": [
    "!gdalinfo {input}"
   ]
  },
  {
   "cell_type": "code",
   "execution_count": null,
   "id": "ceba9faf-17aa-458a-b15d-24164d100ae3",
   "metadata": {
    "jupyter": {
     "outputs_hidden": true
    },
    "tags": []
   },
   "outputs": [],
   "source": [
    "!gdalinfo -mm NETCDF:\"../../MF_DATA/MTG/MTG_multic/Multic2km_mtgi1_20231122_140000.nc\":VIS006"
   ]
  },
  {
   "cell_type": "code",
   "execution_count": null,
   "id": "2dd37617-e416-4930-bec2-b465b378edec",
   "metadata": {},
   "outputs": [],
   "source": [
    "!pwd"
   ]
  },
  {
   "cell_type": "code",
   "execution_count": null,
   "id": "5f917cc0-fee2-4618-87b6-f51aa6667812",
   "metadata": {},
   "outputs": [],
   "source": [
    "!gdal_translate -ot byte -scale 0 2000 0 255 NETCDF:\"../../MF_DATA/MTG/MTG_multic/Multic2km_mtgi1_20231122_140000.nc\":VIS006 {output}VIS006.tif"
   ]
  },
  {
   "cell_type": "code",
   "execution_count": null,
   "id": "041c0a5b-0532-48fc-ae20-731fc32fd28f",
   "metadata": {
    "jupyter": {
     "outputs_hidden": true
    }
   },
   "outputs": [],
   "source": [
    "!convert -resize 300x300 {output}VIS006.tif {output}VIS006.jpg"
   ]
  },
  {
   "cell_type": "code",
   "execution_count": null,
   "id": "ca044219-cce8-4c1a-9305-9fa95b68f3dc",
   "metadata": {},
   "outputs": [],
   "source": [
    "im = Image.open(output + 'VIS006.jpg', 'r')\n",
    "display(im)"
   ]
  },
  {
   "cell_type": "markdown",
   "id": "bec10450-aab5-4169-abd5-27daa75ea052",
   "metadata": {},
   "source": [
    "### dossier de sortie :"
   ]
  },
  {
   "cell_type": "markdown",
   "id": "8d2c1624-6b70-49b0-8473-9510eb888f16",
   "metadata": {},
   "source": [
    "### Extraction des données dans le NetCDF\n",
    "\n",
    "<div class=\"alert alert-info\" role=\"alert\">\n",
    "\n",
    "## <a id='section2'></a>2.Extraction des données dans le NetCDF\n",
    "[Back to top](#TOC-TOP)\n",
    "\n",
    "</div>\n",
    "\n",
    "\n",
    "Pour rappel, la recette de la RGB Dust est la suivante :\n",
    "\n",
    "<img src='../OUTILS/dust_tableau.png' align='right' width='100%'/>\n",
    "\n",
    "Red: IR12.3 – IR10.5, range -4 to +2 K, Gamma = 1.0\n",
    "\n",
    "Green: IR10.5 – IR8.7, Range 0 to +15 K, Gamma = 2.5\n",
    "\n",
    "Blue: IR10.5, range 261 to 289 K, Gamma = 1.0\n",
    "\n",
    "Extraction des données des trois longueurs d'ondes nécessaires aux calculs des différences :"
   ]
  },
  {
   "cell_type": "code",
   "execution_count": null,
   "id": "db684e22-6bd8-4726-b7cf-5c1184bbae5a",
   "metadata": {
    "tags": []
   },
   "outputs": [],
   "source": [
    "!gdal_translate NETCDF:\"$input\":IR_105 {output}/105.tif\n",
    "!gdal_translate NETCDF:\"$input\":IR_123 {output}/123.tif\n",
    "!gdal_translate NETCDF:\"$input\":IR_087 {output}/087.tif"
   ]
  },
  {
   "cell_type": "markdown",
   "id": "e7a3da5d-10ec-4127-a752-f29d66354a1c",
   "metadata": {},
   "source": [
    "Extraction des données IR 10.8 pour la bande bleue.\n",
    "Les valeurs 261 et 289 K correspondent à -12,15 °C et 15,85 °C\n",
    "Dans le NetCDF, les données sont en centième de °C."
   ]
  },
  {
   "cell_type": "code",
   "execution_count": null,
   "id": "26aa9a5d-6e39-4406-83c9-6ded7a7354c7",
   "metadata": {
    "tags": []
   },
   "outputs": [],
   "source": [
    "#!gdalinfo  NETCDF:\"$input\":IR_105"
   ]
  },
  {
   "cell_type": "code",
   "execution_count": null,
   "id": "83c5a506-fee1-4c79-8880-c1211898969f",
   "metadata": {
    "tags": []
   },
   "outputs": [],
   "source": [
    "!gdal_translate -ot byte -scale -1215 1585 0 255 NETCDF:\"$input\":IR_105 {output}/105_-1215_1585.tif"
   ]
  },
  {
   "cell_type": "code",
   "execution_count": null,
   "id": "c203c63f-819f-400b-8ad7-1f5b7ccf166e",
   "metadata": {
    "tags": []
   },
   "outputs": [],
   "source": [
    "!gdal_translate -ot byte -scale 5000 -8000 0 255 NETCDF:\"$input\":IR_105 {output}/105_5000_-8000.tif"
   ]
  },
  {
   "cell_type": "code",
   "execution_count": null,
   "id": "53362bc4-a083-459a-bff7-3e037e4eaabf",
   "metadata": {},
   "outputs": [],
   "source": [
    "!convert -resize 500x500 {output}/105_-1215_1585.tif {output}105_-1215_1585.jpg 2>/dev/null\n",
    "!convert -resize 500x500 {output}/105_5000_-8000.tif {output}/105_5000_-8000.jpg 2>/dev/null"
   ]
  },
  {
   "cell_type": "code",
   "execution_count": null,
   "id": "36909548-d99e-4128-8eae-83624342a52a",
   "metadata": {
    "tags": []
   },
   "outputs": [],
   "source": [
    "#im_a = Image.open(output + '/105_-1215_1585.jpg', 'r')\n",
    "#display(im)"
   ]
  },
  {
   "cell_type": "code",
   "execution_count": null,
   "id": "fff0a78b-adb2-4622-811a-28e30baf668c",
   "metadata": {
    "tags": []
   },
   "outputs": [],
   "source": [
    "#im_b = Image.open(output + '/105_5000_-8000.jpg', 'r')\n",
    "#display(im2)"
   ]
  },
  {
   "cell_type": "markdown",
   "id": "a6a17457-d37f-47c5-9a24-e49cc0d551e6",
   "metadata": {},
   "source": [
    "#### Affichage des images 105_-1215_1585.jpg et 105_5000_-8000.jpg"
   ]
  },
  {
   "cell_type": "code",
   "execution_count": null,
   "id": "6d426371-50bf-495b-8b6d-b90aeb410343",
   "metadata": {},
   "outputs": [],
   "source": [
    "!ls ../RESULTATS/105_-1215_1585.jpg"
   ]
  },
  {
   "cell_type": "markdown",
   "id": "b0be8f20-e896-4421-a865-6a917655b2fb",
   "metadata": {},
   "source": [
    "<div style=\"display: flex; justify-content: center; align-items: center;\">\n",
    "<img src='../RESULTATS/105_-1215_1585.jpg' align='left' width='310px'  />\n",
    "<img src='../RESULTATS/105_5000_-8000.jpg' align='right' width='310px' />\n",
    "</div>"
   ]
  },
  {
   "cell_type": "markdown",
   "id": "1226f4d9-7c3a-4392-9c77-1de4b4e46747",
   "metadata": {},
   "source": [
    "(en cas de bug d'affichage des images ci-dessus, double cliquer sur le bloc, et modifier la largeur en px)"
   ]
  },
  {
   "cell_type": "markdown",
   "id": "63250bdf-c41d-4d52-998f-bd06a7571e9b",
   "metadata": {},
   "source": [
    "### Calcul des différences"
   ]
  },
  {
   "cell_type": "code",
   "execution_count": null,
   "id": "ddf945c7-2cdc-4e61-a719-af47726470c9",
   "metadata": {
    "tags": []
   },
   "outputs": [],
   "source": [
    "!gdal_calc.py  -A {output}/123.tif -B {output}/105.tif --outfile={output}/123_105.tif --calc=\"A-B\"\n",
    "!gdal_calc.py  -A {output}/105.tif -B {output}/087.tif --outfile={output}/105_087.tif --calc=\"A-B\""
   ]
  },
  {
   "cell_type": "markdown",
   "id": "cab8c50b-457f-44c2-a52b-9272436f8fa1",
   "metadata": {},
   "source": [
    "On met les différences sur les échelles -4-2 pour le rouge et 0-15 pour le vert.\n",
    "Une différence en Kelvin et égale à une différence en °C."
   ]
  },
  {
   "cell_type": "code",
   "execution_count": null,
   "id": "ae6b4cf7-3798-4334-b815-ccd6df9c0307",
   "metadata": {},
   "outputs": [],
   "source": [
    "!gdal_translate -ot byte -scale -400 200 0 255 {output}/123_105.tif {output}/123_105_scale.tif\n",
    "!gdal_translate -ot byte -scale 0 1500 0 255 {output}/105_087.tif {output}/105_087_scale.tif"
   ]
  },
  {
   "cell_type": "code",
   "execution_count": null,
   "id": "d80753ea-0386-4830-bd3e-a122237de7e7",
   "metadata": {},
   "outputs": [],
   "source": [
    "!convert -resize 500x500 {output}/123_105_scale.tif {output}/123_105_scale.jpg 2>/dev/null\n",
    "!convert -resize 500x500 {output}/105_087_scale.tif {output}/105_087_scale.jpg 2>/dev/null"
   ]
  },
  {
   "cell_type": "code",
   "execution_count": null,
   "id": "2b096e29-c6ad-459d-9620-9277095546e4",
   "metadata": {},
   "outputs": [],
   "source": [
    "#### Affichage des images 123_105_scale.jpg et 105_087_scale.jpg"
   ]
  },
  {
   "cell_type": "markdown",
   "id": "6f68d2c2-5721-4a56-b28e-0837277c436e",
   "metadata": {},
   "source": [
    "<div style=\"display: flex; justify-content: center; align-items: center;\">\n",
    "<img src='../RESULTATS/123_105_scale.jpg' align='left' width='310px'  />\n",
    "<img src='../RESULTATS/105_087_scale.jpg' align='right' width='310px' />\n",
    "</div>        "
   ]
  },
  {
   "attachments": {
    "d96c291a-bf4a-41e3-8436-7db6281466a2.png": {
     "image/png": "[encoded data removed]"
    }
   },
   "cell_type": "markdown",
   "id": "a0110faa-2f67-4b28-b2d2-01df04a5253f",
   "metadata": {},
   "source": [
    "### Calcul de la correction gamma avec gdal_calc.py :\n",
    "\n",
    "Pour rappel la formule de la correction gamme est :\n",
    "\n",
    "![image.png](attachment:d96c291a-bf4a-41e3-8436-7db6281466a2.png)\n",
    "\n",
    "\n",
    "(Note : imagemagick permet de faire une correction gamma mais n'est pas compatible avec Windows)"
   ]
  },
  {
   "cell_type": "markdown",
   "id": "311de0d1-bf95-4921-a354-8bbdd818f357",
   "metadata": {},
   "source": [
    "La première étape consiste à extraire les valeurs min et max de l'image."
   ]
  },
  {
   "cell_type": "code",
   "execution_count": null,
   "id": "48e17eb9-3324-4b6a-8e7c-180d980710ba",
   "metadata": {},
   "outputs": [],
   "source": [
    "!convert -gamma 2.5 {output}/105_087_scale.tif {output}/105_087_scale_gamma.tif 2>/dev/null"
   ]
  },
  {
   "cell_type": "code",
   "execution_count": null,
   "id": "c8247258-2339-4a1c-a371-705ef8d246b5",
   "metadata": {},
   "outputs": [],
   "source": [
    "file_in = '../RESULTATS/105_087_scale.tif'\n",
    "imgpil = Image.open(file_in)  \n",
    "img = np.array(imgpil)\n",
    "max = np.max(img)\n",
    "min = np.min(img)"
   ]
  },
  {
   "cell_type": "markdown",
   "id": "8c182880-b5c8-40c3-abb5-d90a20c55113",
   "metadata": {},
   "source": [
    "Ensuite on calcule et on applique la correction gamma pour une valeur de 2,5 :"
   ]
  },
  {
   "cell_type": "code",
   "execution_count": null,
   "id": "3005a1c7-74cc-4a25-8479-03204e2b4ec5",
   "metadata": {},
   "outputs": [],
   "source": [
    "gamma= 2.5"
   ]
  },
  {
   "cell_type": "code",
   "execution_count": null,
   "id": "41478cb8-6677-45e2-83b1-5f3cd64a0fd4",
   "metadata": {},
   "outputs": [],
   "source": [
    "!gdal_calc.py --quiet --NoDataValue 0 --overwrite -A {file_in} --calc=\"numpy.maximum(A*0.,{max}*((A-{0}.)/({255}-{0}))**(1/{gamma}))\" --outfile {output}/105_087_scale_gamma-std.tif"
   ]
  },
  {
   "cell_type": "code",
   "execution_count": null,
   "id": "c2e5ee6f-b34e-47f7-aabf-012c1e937a20",
   "metadata": {
    "tags": []
   },
   "outputs": [],
   "source": [
    "!gdal_calc.py --quiet --NoDataValue 0 --overwrite -A {file_in} --calc=\"numpy.maximum(A*0.,{max}*((A-{min}.)/({max}-{min}))**(1/{gamma}))\" --outfile {output}/105_087_scale_gamma.tif"
   ]
  },
  {
   "cell_type": "code",
   "execution_count": null,
   "id": "0e746f98-14f6-419c-a55c-9b9095eed22f",
   "metadata": {
    "tags": []
   },
   "outputs": [],
   "source": [
    "#Gamma = 1 (Pour comparaison)\n",
    "!gdal_calc.py --quiet --NoDataValue 0 --overwrite -A {file_in} --calc=\"numpy.maximum(A*0.,{max}*((A-{min}.)/({max}-{min}))**(1/{1}))\" --outfile {output}/105_087_scale_gamma_1.tif"
   ]
  },
  {
   "cell_type": "code",
   "execution_count": null,
   "id": "18816109-f37b-4754-bff3-e4e3666749b8",
   "metadata": {},
   "outputs": [],
   "source": [
    "max, min"
   ]
  },
  {
   "cell_type": "code",
   "execution_count": null,
   "id": "33f8b299-2997-471e-8f90-06b04d7730e3",
   "metadata": {},
   "outputs": [],
   "source": [
    "!convert -resize 500x500 {output}/105_087_scale_gamma-std.tif {output}/105_087_scale_gamma-std.jpg 2>/dev/null\n",
    "!convert -resize 500x500 {output}/105_087_scale_gamma.tif {output}/105_087_scale_gamma.jpg 2>/dev/null\n",
    "!convert -resize 500x500 {output}/105_087_scale_gamma_1.tif {output}/105_087_scale_gamma_1.jpg 2>/dev/null"
   ]
  },
  {
   "cell_type": "markdown",
   "id": "6d2bae44-6a58-4073-84b1-db720b3176d4",
   "metadata": {},
   "source": [
    "#### Affichage des images 105_087_scale_gamma-std.jpg, 105_087_scale_gamma.jpg et 105_087_scale_gamma_1.jpg"
   ]
  },
  {
   "cell_type": "markdown",
   "id": "1bf1573d-6556-4651-af53-e8b270ca8ab9",
   "metadata": {},
   "source": [
    "<div style=\"display: flex; justify-content: center; align-items: center;\">\n",
    "<img src='../RESULTATS/105_087_scale_gamma-std.jpg' align='left' width='30%'  />\n",
    "<img src='../RESULTATS/105_087_scale_gamma.jpg' align='right' width='30%' />\n",
    "<img src='../RESULTATS/105_087_scale_gamma_1.jpg' align='right' width='30%' />\n",
    "</div>  "
   ]
  },
  {
   "cell_type": "markdown",
   "id": "cdbec3e0-d122-42c0-8e08-5d8f0569d73d",
   "metadata": {},
   "source": [
    "<div class=\"alert alert-info\" role=\"alert\">\n",
    "\n",
    "## <a id='section3'></a>3.Fabrication de la RGB\n",
    "[Back to top](#TOC-TOP)\n",
    "\n",
    "</div>"
   ]
  },
  {
   "cell_type": "code",
   "execution_count": null,
   "id": "a1e8b5cc-b8c4-450d-8105-6ca3145b199e",
   "metadata": {},
   "outputs": [],
   "source": [
    "!gdal_merge.py -separate {output}/123_105_scale.tif {output}/105_087_scale_gamma.tif {output}/105_-1215_1585.tif -o {output}/RGB_dust.tif\n",
    "!convert -resize 700x700 {output}/RGB_dust.tif {output}/RGB_dust.jpg 2>/dev/null"
   ]
  },
  {
   "cell_type": "markdown",
   "id": "f44018dd-ec6d-451c-98ba-642a30d8aa2d",
   "metadata": {},
   "source": [
    "### Visualisation du résultat"
   ]
  },
  {
   "cell_type": "code",
   "execution_count": null,
   "id": "99422cc0-a76b-4975-8797-56c9453c0483",
   "metadata": {},
   "outputs": [],
   "source": [
    "im = Image.open(output + '/RGB_dust.jpg', 'r')\n",
    "display(im)"
   ]
  },
  {
   "cell_type": "code",
   "execution_count": null,
   "id": "154c6b68-1c2e-467d-9bfd-ebb8f25d5718",
   "metadata": {},
   "outputs": [],
   "source": [
    "#Nettoyage\n",
    "!rm {output}/VIS006.tif {output}/123.tif {output}/*.tif"
   ]
  },
  {
   "cell_type": "code",
   "execution_count": null,
   "id": "c1c98f93-c700-43ee-88a6-380931ab30e5",
   "metadata": {},
   "outputs": [],
   "source": []
  }
 ],
 "metadata": {
  "kernelspec": {
   "display_name": "Python [conda env:.conda-env_MF]",
   "language": "python",
   "name": "conda-env-.conda-env_MF-py"
  },
  "language_info": {
   "codemirror_mode": {
    "name": "ipython",
    "version": 3
   },
   "file_extension": ".py",
   "mimetype": "text/x-python",
   "name": "python",
   "nbconvert_exporter": "python",
   "pygments_lexer": "ipython3",
   "version": "3.12.4"
  }
 },
 "nbformat": 4,
 "nbformat_minor": 5
}
