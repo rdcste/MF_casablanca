{
 "cells": [
  {
   "cell_type": "markdown",
   "id": "dd8866c1-f9e5-4a37-864b-f667af51c922",
   "metadata": {},
   "source": [
    "<img src='OUTILS/bandeau_MF.png' align='right' width='100%'/>"
   ]
  },
  {
   "cell_type": "markdown",
   "id": "a3719fcd-2554-4d3a-b83e-cc2ec2150faf",
   "metadata": {},
   "source": [
    "<div class=\"alert alert-info alert-success\">\n",
    "<h1>Manipulation et traitement des données brutes satellitaires de niveau 1 </h1></div>\n",
    "<h3>Maroc – Casablanca - 01 - 05 Juillet 2024 </h3></div>\n",
    "\n",
    "<h3>Jupyter Notebook </h3></div>\n",
    "\n",
    "<a id='TOC-TOP'></a>\n"
   ]
  },
  {
   "cell_type": "markdown",
   "id": "e76267d7-3631-4696-9c6d-9f20025e0fe0",
   "metadata": {},
   "source": [
    "<h3>Rappel calendrier </h3></div>"
   ]
  },
  {
   "cell_type": "markdown",
   "id": "5b05ab83-1110-4053-850b-5dc1993aefd7",
   "metadata": {},
   "source": [
    "\n",
    "</img><a href=\"./OUTILS/agenda_casa.png\" target=\"_blank\"> <img src='./OUTILS/agenda_casa.png' alt='agenda' width='35%'></a>"
   ]
  },
  {
   "cell_type": "markdown",
   "id": "6d0f9431-7fb7-4afd-9935-ef7b4e10d10c",
   "metadata": {},
   "source": [
    "<div class=\"alert alert-info\" role=\"alert\">\n",
    "\n",
    "## <a id='section1'></a>1.Présentation générale Jupyter Notebook.\n",
    "\n",
    "</div>"
   ]
  },
  {
   "cell_type": "markdown",
   "id": "df1dfb1b-f18f-4726-954a-b99d04857aea",
   "metadata": {},
   "source": [
    "<div class=\"alert alert-info\" role=\"alert\">\n",
    "\n",
    "## <a id='section1'></a>2.Présentation générale Git, GitLab et GitHub.\n",
    "\n",
    "</div>"
   ]
  },
  {
   "cell_type": "markdown",
   "id": "5d37f127-b089-41fa-a092-3fd5b9607156",
   "metadata": {},
   "source": [
    "<div class=\"alert alert-info\" role=\"alert\">\n",
    "\n",
    "## <a id='section1'></a>3.Utilisation des Jupyter Notebook.\n",
    "\n",
    "</div>"
   ]
  },
  {
   "cell_type": "markdown",
   "id": "757c454c-6159-4234-88ef-19bd9513c634",
   "metadata": {},
   "source": [
    "<div class=\"alert alert-block alert-warning\">\n",
    "    \n",
    "<b>PREREQUIS </b>\n",
    "    \n",
    "L'emploi des Jupyter Notebook nécessite de récupérer les données présentes sur un dépot distant:\n",
    "\n",
    "- ouvrir un terminal (onglet \"+\"),\n",
    "- puis :  git clone https://github.com/rdcste/MF_casablanca\n",
    "\n",
    "Un répertoire \"MF_casablanca\" est créé sur votre compte avec du contenu\n",
    "\n",
    "</div>\n",
    "<hr>"
   ]
  },
  {
   "cell_type": "markdown",
   "id": "c7eca76f-2443-414b-b8e7-54ff54105443",
   "metadata": {},
   "source": [
    "Principaux Jupyter Notebook:\n",
    "\n",
    "Liste ici....\n"
   ]
  },
  {
   "cell_type": "markdown",
   "id": "dde8eb5d-e24f-49f3-b0c8-f4531cff35d3",
   "metadata": {},
   "source": [
    "### Recette RGB "
   ]
  },
  {
   "cell_type": "markdown",
   "id": "c55974b6-eaeb-433b-8e91-4b3b31656011",
   "metadata": {},
   "source": [
    " \n",
    "<img src='./OUTILS/icon_pdf.png' alt='icon pdf' width='30px'></img><a href=\"./DOCS/RGB-Workshop-Oct2022_Report_final.pdf\" target=\"_blank\"> RGB Workshop 2022</a>"
   ]
  },
  {
   "cell_type": "code",
   "execution_count": null,
   "id": "e069df6a-d063-4fde-8433-cd894af6f803",
   "metadata": {},
   "outputs": [],
   "source": []
  }
 ],
 "metadata": {
  "kernelspec": {
   "display_name": "Python [conda env:.conda-satpy]",
   "language": "python",
   "name": "conda-env-.conda-satpy-py"
  },
  "language_info": {
   "codemirror_mode": {
    "name": "ipython",
    "version": 3
   },
   "file_extension": ".py",
   "mimetype": "text/x-python",
   "name": "python",
   "nbconvert_exporter": "python",
   "pygments_lexer": "ipython3",
   "version": "3.12.4"
  }
 },
 "nbformat": 4,
 "nbformat_minor": 5
}
